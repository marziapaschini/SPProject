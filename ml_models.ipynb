{
 "cells": [
  {
   "cell_type": "markdown",
   "id": "d18c88bc",
   "metadata": {},
   "source": [
    "### Data processing\n",
    "This file contains a comparison of several **supervised machine learning models** applied to pre-processed data."
   ]
  },
  {
   "cell_type": "code",
   "execution_count": 1,
   "id": "765e23ed",
   "metadata": {},
   "outputs": [],
   "source": [
    "import data_preprocessing as dp\n",
    "import numpy as np\n",
    "import pandas as pd\n",
    "import warnings\n",
    "import time"
   ]
  },
  {
   "cell_type": "code",
   "execution_count": 2,
   "id": "b1c73044",
   "metadata": {},
   "outputs": [],
   "source": [
    "from sklearn.linear_model import LogisticRegression\n",
    "from sklearn.model_selection import (\n",
    "    KFold,\n",
    "    RandomizedSearchCV,\n",
    "    train_test_split,\n",
    "    cross_val_score,\n",
    "    learning_curve,\n",
    "    validation_curve\n",
    ")\n",
    "from sklearn.linear_model import (\n",
    "    LogisticRegression,\n",
    "    Ridge\n",
    ")\n",
    "from sklearn.tree import DecisionTreeClassifier\n",
    "from sklearn.ensemble import RandomForestClassifier\n",
    "from sklearn import svm\n",
    "from sklearn.metrics import (\n",
    "    accuracy_score,\n",
    "    confusion_matrix,\n",
    "    precision_score,\n",
    "    recall_score,\n",
    "    f1_score\n",
    ")\n",
    "from sklearn.preprocessing import MinMaxScaler\n",
    "from scipy.stats import randint"
   ]
  },
  {
   "cell_type": "markdown",
   "id": "6a0e3623",
   "metadata": {},
   "source": [
    "Split of the dataset in target and input variables"
   ]
  },
  {
   "cell_type": "code",
   "execution_count": 3,
   "id": "b58bc1c6",
   "metadata": {},
   "outputs": [],
   "source": [
    "y = dp.X['RainTomorrow']\n",
    "X = dp.X.drop(['RainTomorrow'], axis=1)"
   ]
  },
  {
   "cell_type": "markdown",
   "id": "7c42fff3",
   "metadata": {
    "scrolled": true
   },
   "source": [
    "Function to split of the dataset in 2 parts (80%-20%), which is used in some models."
   ]
  },
  {
   "cell_type": "code",
   "execution_count": 4,
   "id": "aa2c7586",
   "metadata": {},
   "outputs": [],
   "source": [
    "def split_df(X, y):\n",
    "    X_train, X_test, y_train, y_test = train_test_split(X, y, test_size=0.2, shuffle=True, random_state=42)\n",
    "    return X_train, X_test, y_train, y_test"
   ]
  },
  {
   "cell_type": "code",
   "execution_count": 5,
   "id": "94de9408",
   "metadata": {},
   "outputs": [],
   "source": [
    "X_train, X_test, y_train, y_test = split_df(X, y)"
   ]
  },
  {
   "cell_type": "markdown",
   "id": "5b99fc3d",
   "metadata": {},
   "source": [
    "#### Logistic Regression"
   ]
  },
  {
   "cell_type": "code",
   "execution_count": 6,
   "id": "b36a858e",
   "metadata": {},
   "outputs": [],
   "source": [
    "def logistic_regression(X_train, X_test, y_train, y_test):\n",
    "    with warnings.catch_warnings():\n",
    "        warnings.simplefilter(\"ignore\")\n",
    "        log_reg = LogisticRegression()\n",
    "        log_reg.fit(X_train, y_train)\n",
    "        y_pred = log_reg.predict(X_test)\n",
    "    return log_reg, y_pred"
   ]
  },
  {
   "cell_type": "code",
   "execution_count": 7,
   "id": "dc1c4e9c",
   "metadata": {
    "scrolled": true
   },
   "outputs": [],
   "source": [
    "log_reg, y_pred_log_reg = logistic_regression(X_train, X_test, y_train, y_test)\n",
    "\n",
    "accuracy_log_reg = log_reg.score(X_test, y_test)\n",
    "precision_log_reg = precision_score(y_test, y_pred_log_reg)\n",
    "recall_log_reg = recall_score(y_test, y_pred_log_reg)\n",
    "f1_log_reg = f1_score(y_test, y_pred_log_reg)"
   ]
  },
  {
   "cell_type": "markdown",
   "id": "27f6e2e4",
   "metadata": {},
   "source": [
    "K-Fold Cross Validation"
   ]
  },
  {
   "cell_type": "code",
   "execution_count": 8,
   "id": "662ccc39",
   "metadata": {},
   "outputs": [],
   "source": [
    "def logistic_regression_kfold(X, y, n_splits=5, max_iter=800):\n",
    "    with warnings.catch_warnings():\n",
    "        warnings.simplefilter(\"ignore\")\n",
    "        kfold = KFold(n_splits=n_splits, shuffle=True, random_state=42)\n",
    "        model = LogisticRegression(max_iter=max_iter)\n",
    "        accuracy_scores = cross_val_score(model, X, y, cv=kfold, scoring='accuracy')\n",
    "        precision_scores = cross_val_score(model, X, y, cv=kfold, scoring='precision')\n",
    "        recall_scores = cross_val_score(model, X, y, cv=kfold, scoring='recall')\n",
    "        f1_scores = cross_val_score(model, X, y, cv=kfold, scoring='f1')\n",
    "        # evaluation metrics\n",
    "        mean_accuracy_score = np.mean(accuracy_scores)\n",
    "        mean_precision_score = np.mean(precision_scores)\n",
    "        mean_recall_score = np.mean(recall_scores)\n",
    "        mean_f1_score = np.mean(f1_scores)\n",
    "    return accuracy_scores, mean_accuracy_score, precision_scores, mean_precision_score, recall_scores, mean_recall_score, f1_scores, mean_f1_score"
   ]
  },
  {
   "cell_type": "code",
   "execution_count": 9,
   "id": "2b041066",
   "metadata": {
    "scrolled": true
   },
   "outputs": [],
   "source": [
    "start_time_lr_cv = time.time()\n",
    "lr_acc, lr_acc_mean, _, _, _, _, _, _ = logistic_regression_kfold(X, y)\n",
    "end_time_lr_cv = time.time()\n",
    "\n",
    "_, _, lr_prec, lr_prec_mean, _, _, _, _ = logistic_regression_kfold(X, y)\n",
    "_, _, _, _, lr_rec, lr_rec_mean, _, _ = logistic_regression_kfold(X, y)\n",
    "_, _, _, _, _, _, lr_f1, lr_f1_mean = logistic_regression_kfold(X, y)\n",
    "\n",
    "elapsed_time_lr_cv = end_time_lr_cv - start_time_lr_cv"
   ]
  },
  {
   "cell_type": "markdown",
   "id": "7e496cb4",
   "metadata": {},
   "source": [
    "#### Decision Tree"
   ]
  },
  {
   "cell_type": "code",
   "execution_count": 10,
   "id": "5379771e",
   "metadata": {},
   "outputs": [],
   "source": [
    "def decision_tree(X_train, X_test, y_train, y_test):\n",
    "    dt = DecisionTreeClassifier()\n",
    "    dt.fit(X_train, y_train)\n",
    "    y_pred = dt.predict(X_test)\n",
    "    return dt, y_pred"
   ]
  },
  {
   "cell_type": "code",
   "execution_count": 11,
   "id": "4bbc2fa7",
   "metadata": {},
   "outputs": [],
   "source": [
    "dt, y_pred_dt = decision_tree(X_train, X_test, y_train, y_test)\n",
    "\n",
    "accuracy_dt = dt.score(X_test, y_test)\n",
    "precision_dt = precision_score(y_test, y_pred_dt)\n",
    "recall_dt = recall_score(y_test, y_pred_dt)\n",
    "f1_dt = f1_score(y_test, y_pred_dt)"
   ]
  },
  {
   "cell_type": "markdown",
   "id": "59dcc865",
   "metadata": {},
   "source": [
    "K-Fold Cross Validation"
   ]
  },
  {
   "cell_type": "code",
   "execution_count": 12,
   "id": "02a31789",
   "metadata": {},
   "outputs": [],
   "source": [
    "def decision_tree_kfold(X, y, n_splits=5, max_iter=800):\n",
    "    dt = DecisionTreeClassifier()\n",
    "    kfold = KFold(n_splits=n_splits, shuffle=True, random_state=42)\n",
    "    accuracy_scores = cross_val_score(dt, X, y, cv=kfold, scoring='accuracy')\n",
    "    precision_scores = cross_val_score(dt, X, y, cv=kfold, scoring='precision')\n",
    "    recall_scores = cross_val_score(dt, X, y, cv=kfold, scoring='recall')\n",
    "    f1_scores = cross_val_score(dt, X, y, cv=kfold, scoring='f1')\n",
    "    # evaluation metrics\n",
    "    mean_accuracy_score = np.mean(accuracy_scores)\n",
    "    mean_precision_score = np.mean(precision_scores)\n",
    "    mean_recall_score = np.mean(recall_scores)\n",
    "    mean_f1_score = np.mean(f1_scores)\n",
    "    return accuracy_scores, mean_accuracy_score, precision_scores, mean_precision_score, recall_scores, mean_recall_score, f1_scores, mean_f1_score\n"
   ]
  },
  {
   "cell_type": "code",
   "execution_count": 13,
   "id": "f86c086e",
   "metadata": {},
   "outputs": [],
   "source": [
    "dt_acc, dt_acc_mean, _, _, _, _, _, _ = decision_tree_kfold(X, y)\n",
    "_, _, dt_prec, dt_prec_mean, _, _, _, _ = decision_tree_kfold(X, y)\n",
    "_, _, _, _, dt_rec, dt_rec_mean, _, _ = decision_tree_kfold(X, y)\n",
    "_, _, _, _, _, _, dt_f1, dt_f1_mean = decision_tree_kfold(X, y)"
   ]
  },
  {
   "cell_type": "markdown",
   "id": "51a44a8e",
   "metadata": {},
   "source": [
    "#### Random Forest"
   ]
  },
  {
   "cell_type": "code",
   "execution_count": 14,
   "id": "e70297bd",
   "metadata": {},
   "outputs": [],
   "source": [
    "def random_forest(X_train, X_test, y_train, y_test):\n",
    "    rf = RandomForestClassifier(n_estimators=100) # 100 trees\n",
    "    rf.fit(X_train, y_train)\n",
    "    y_pred = rf.predict(X_test)\n",
    "    return rf, y_pred"
   ]
  },
  {
   "cell_type": "code",
   "execution_count": 15,
   "id": "53315846",
   "metadata": {
    "scrolled": true
   },
   "outputs": [],
   "source": [
    "start_time_rf = time.time()\n",
    "rf, y_pred_rf = random_forest(X_train, X_test, y_train, y_test)\n",
    "end_time_rf = time.time()\n",
    "\n",
    "accuracy_rf = accuracy_score(y_test, y_pred_rf)\n",
    "precision_rf = precision_score(y_test, y_pred_rf)\n",
    "recall_rf = recall_score(y_test, y_pred_rf)\n",
    "f1_rf = f1_score(y_test, y_pred_rf)\n",
    "\n",
    "elapsed_time_rf = end_time_rf - start_time_rf"
   ]
  },
  {
   "cell_type": "markdown",
   "id": "c5d8408c",
   "metadata": {},
   "source": [
    "K-Fold Cross Validation"
   ]
  },
  {
   "cell_type": "code",
   "execution_count": 16,
   "id": "aa1821b0",
   "metadata": {},
   "outputs": [],
   "source": [
    "def random_forest_kfold(X, y, n_splits=5):\n",
    "    rf = RandomForestClassifier(n_estimators=100) # 100 trees\n",
    "    kfold = KFold(n_splits=n_splits, shuffle=True, random_state=42)\n",
    "    accuracy_scores = cross_val_score(rf, X, y, cv=kfold, scoring='accuracy')\n",
    "    precision_scores = cross_val_score(rf, X, y, cv=kfold, scoring='precision')\n",
    "    recall_scores = cross_val_score(rf, X, y, cv=kfold, scoring='recall')\n",
    "    f1_scores = cross_val_score(rf, X, y, cv=kfold, scoring='f1')\n",
    "    # evaluation metrics\n",
    "    mean_accuracy_score = np.mean(accuracy_scores)\n",
    "    mean_precision_score = np.mean(precision_scores)\n",
    "    mean_recall_score = np.mean(recall_scores)\n",
    "    mean_f1_score = np.mean(f1_scores)\n",
    "    return accuracy_scores, mean_accuracy_score, precision_scores, mean_precision_score, recall_scores, mean_recall_score, f1_scores, mean_f1_score"
   ]
  },
  {
   "cell_type": "code",
   "execution_count": 17,
   "id": "0343d6f5",
   "metadata": {
    "scrolled": true
   },
   "outputs": [],
   "source": [
    "rf_acc, rf_acc_mean, _, _, _, _, _, _ = decision_tree_kfold(X, y)\n",
    "_, _, rf_prec, rf_prec_mean, _, _, _, _ = decision_tree_kfold(X, y)\n",
    "_, _, _, _, rf_rec, rf_rec_mean, _, _ = decision_tree_kfold(X, y)\n",
    "_, _, _, _, _, _, rf_f1, rf_f1_mean = decision_tree_kfold(X, y)"
   ]
  },
  {
   "cell_type": "markdown",
   "id": "f40777f1",
   "metadata": {},
   "source": [
    "#### SVM\n",
    "Linear, polinomial and radial basis function kernels."
   ]
  },
  {
   "cell_type": "code",
   "execution_count": 18,
   "id": "8e7cd033",
   "metadata": {},
   "outputs": [],
   "source": [
    "def svm_linear(X_train, X_test, y_train, y_test):\n",
    "    svm_linear_model = svm.SVC(kernel='linear', C=1, random_state=42)\n",
    "    svm_linear_model.fit(X_train, y_train)\n",
    "    y_pred = svm_linear_model.predict(X_test)\n",
    "    return svm_linear_model, y_pred"
   ]
  },
  {
   "cell_type": "code",
   "execution_count": 19,
   "id": "af3bd02a",
   "metadata": {},
   "outputs": [],
   "source": [
    "def svm_poly(X_train, X_test, y_train, y_test):\n",
    "    svm_poly_model = svm.SVC(kernel='poly', C=1, random_state=42)\n",
    "    svm_poly_model.fit(X_train, y_train)\n",
    "    y_pred = svm_poly_model.predict(X_test)\n",
    "    return svm_poly_model, y_pred"
   ]
  },
  {
   "cell_type": "code",
   "execution_count": 20,
   "id": "8e4d0c68",
   "metadata": {},
   "outputs": [],
   "source": [
    "def svm_rbf(X_train, X_test, y_train, y_test):\n",
    "    svm_rbf_model = svm.SVC(kernel='rbf', C=1, random_state=42)\n",
    "    svm_rbf_model.fit(X_train, y_train)\n",
    "    y_pred = svm_rbf_model.predict(X_test)\n",
    "    return svm_rbf_model, y_pred"
   ]
  },
  {
   "cell_type": "code",
   "execution_count": 21,
   "id": "f2975cea",
   "metadata": {},
   "outputs": [],
   "source": [
    "svm_linear, y_pred_svm_lin = svm_linear(X_train, X_test, y_train, y_test)\n",
    "accuracy_svm_linear = accuracy_score(y_test, y_pred_svm_lin)\n",
    "precision_svm_linear = precision_score(y_test, y_pred_svm_lin)\n",
    "recall_svm_linear = recall_score(y_test, y_pred_svm_lin)\n",
    "f1_svm_linear = f1_score(y_test, y_pred_svm_lin)"
   ]
  },
  {
   "cell_type": "code",
   "execution_count": 22,
   "id": "cbd1e73d",
   "metadata": {
    "scrolled": true
   },
   "outputs": [],
   "source": [
    "svm_poly, y_pred_svm_poly = svm_poly(X_train, X_test, y_train, y_test)\n",
    "accuracy_svm_poly = accuracy_score(y_test, y_pred_svm_poly)\n",
    "precision_svm_poly = precision_score(y_test, y_pred_svm_poly)\n",
    "recall_svm_poly = recall_score(y_test, y_pred_svm_poly)\n",
    "f1_svm_poly = f1_score(y_test, y_pred_svm_poly)"
   ]
  },
  {
   "cell_type": "code",
   "execution_count": 23,
   "id": "7af172c1",
   "metadata": {
    "scrolled": true
   },
   "outputs": [],
   "source": [
    "svm_rbf, y_pred_svm_rbf = svm_rbf(X_train, X_test, y_train, y_test)\n",
    "accuracy_svm_rbf = accuracy_score(y_test, y_pred_svm_rbf)\n",
    "precision_svm_rbf = precision_score(y_test, y_pred_svm_rbf)\n",
    "recall_svm_rbf = recall_score(y_test, y_pred_svm_rbf)\n",
    "f1_svm_rbf = f1_score(y_test, y_pred_svm_rbf)"
   ]
  },
  {
   "cell_type": "markdown",
   "id": "af007ca2",
   "metadata": {},
   "source": [
    "K-Fold Cross Validation"
   ]
  },
  {
   "cell_type": "code",
   "execution_count": 24,
   "id": "95c52161",
   "metadata": {},
   "outputs": [],
   "source": [
    "def svm_kfold(X, y, n_splits=5):\n",
    "    svm_model = svm.SVC(kernel='linear', C=1, random_state=42)\n",
    "    svm_model.fit(X, y)\n",
    "    kfold = KFold(n_splits=n_splits, shuffle=True, random_state=42)\n",
    "    accuracy_scores = cross_val_score(svm_model, X, y, cv=kfold, scoring='accuracy')\n",
    "    precision_scores = cross_val_score(svm_model, X, y, cv=kfold, scoring='precision')\n",
    "    recall_scores = cross_val_score(svm_model, X, y, cv=kfold, scoring='recall')\n",
    "    f1_scores = cross_val_score(svm_model, X, y, cv=kfold, scoring='f1')\n",
    "    # evaluation metrics\n",
    "    mean_accuracy_score = np.mean(accuracy_scores)\n",
    "    mean_precision_score = np.mean(precision_scores)\n",
    "    mean_recall_score = np.mean(recall_scores)\n",
    "    mean_f1_score = np.mean(f1_scores)\n",
    "    return accuracy_scores, mean_accuracy_score, precision_scores, mean_precision_score, recall_scores, mean_recall_score, f1_scores, mean_f1_score"
   ]
  },
  {
   "cell_type": "code",
   "execution_count": 25,
   "id": "3a02a1bf",
   "metadata": {
    "scrolled": true
   },
   "outputs": [],
   "source": [
    "svm_acc, svm_acc_mean, _, _, _, _, _, _ = decision_tree_kfold(X, y)\n",
    "_, _, svm_prec, svm_prec_mean, _, _, _, _ = decision_tree_kfold(X, y)\n",
    "_, _, _, _, svm_rec, svm_rec_mean, _, _ = decision_tree_kfold(X, y)\n",
    "_, _, _, _, _, _, svm_f1, svm_f1_mean = decision_tree_kfold(X, y)"
   ]
  },
  {
   "cell_type": "markdown",
   "id": "1cfd2a7f",
   "metadata": {},
   "source": [
    "#### Accuracy comparison"
   ]
  },
  {
   "cell_type": "code",
   "execution_count": 27,
   "id": "61ff0966",
   "metadata": {
    "scrolled": true
   },
   "outputs": [
    {
     "name": "stdout",
     "output_type": "stream",
     "text": [
      "                 Model  Accuracy  Precision    Recall  F1-score\n",
      "0  Logistic Regression  0.825480   0.670034  0.373709  0.479807\n",
      "1        Decision Tree  0.745399   0.415061  0.445070  0.429542\n",
      "2        Random Forest  0.821031   0.640187  0.385915  0.481547\n",
      "3  SVM (Linear Kernel)  0.804651   0.726027  0.149296  0.247664\n",
      "\n",
      "Best model:  Random Forest\n"
     ]
    }
   ],
   "source": [
    "# create a performance dataframe\n",
    "performance = pd.DataFrame({\n",
    "    'Model': ['Logistic Regression', 'Decision Tree', 'Random Forest', 'SVM (Linear Kernel)'],\n",
    "    'Accuracy': [accuracy_log_reg, accuracy_dt, accuracy_rf, accuracy_svm_linear],\n",
    "    'Precision': [precision_log_reg, precision_dt, precision_rf, precision_svm_linear],\n",
    "    'Recall': [recall_log_reg, recall_dt, recall_rf, recall_svm_linear],\n",
    "    'F1-score': [f1_log_reg, f1_dt, f1_rf, f1_svm_linear]\n",
    "})\n",
    "\n",
    "print(performance)\n",
    "\n",
    "# find the best performance\n",
    "performance_sorted = performance.sort_values(by='F1-score', ascending=False)\n",
    "best_model = performance_sorted.iloc[0]['Model']\n",
    "best_f1_score = performance_sorted.iloc[0]['F1-score']\n",
    "\n",
    "print(\"\\nBest model: \", best_model)"
   ]
  },
  {
   "cell_type": "code",
   "execution_count": 28,
   "id": "4ab66992",
   "metadata": {},
   "outputs": [
    {
     "name": "stdout",
     "output_type": "stream",
     "text": [
      "                 Model  Accuracy  Precision    Recall  F1-score\n",
      "0  Logistic Regression  0.822863   0.683127  0.374372  0.483427\n",
      "1        Decision Tree  0.748230   0.431677  0.448147  0.440107\n",
      "2        Random Forest  0.746855   0.432608  0.449273  0.438590\n",
      "3  SVM (Linear Kernel)  0.747624   0.431034  0.452082  0.439427\n",
      "\n",
      "Best CV model:  Logistic Regression\n"
     ]
    }
   ],
   "source": [
    "# create a performance dataframe for CV\n",
    "performance_cv = pd.DataFrame({\n",
    "    'Model': ['Logistic Regression', 'Decision Tree', 'Random Forest', 'SVM (Linear Kernel)'],\n",
    "    'Accuracy': [lr_acc_mean, dt_acc_mean, rf_acc_mean, svm_acc_mean],\n",
    "    'Precision': [lr_prec_mean, dt_prec_mean, rf_prec_mean, svm_prec_mean],\n",
    "    'Recall': [lr_rec_mean, dt_rec_mean, rf_rec_mean, svm_rec_mean],\n",
    "    'F1-score': [lr_f1_mean, dt_f1_mean, rf_f1_mean, svm_f1_mean]\n",
    "})\n",
    "\n",
    "print(performance_cv)\n",
    "\n",
    "# find the best performance\n",
    "performance_sorted_cv = performance_cv.sort_values(by='F1-score', ascending=False)\n",
    "best_model_cv = performance_cv.iloc[0]['Model']\n",
    "best_f1_score_cv = performance_cv.iloc[0]['F1-score']\n",
    "\n",
    "print(\"\\nBest CV model: \", best_model_cv)"
   ]
  },
  {
   "cell_type": "code",
   "execution_count": 29,
   "id": "ef3667a7",
   "metadata": {},
   "outputs": [
    {
     "name": "stdout",
     "output_type": "stream",
     "text": [
      "        Model  Accuracy  Precision    Recall  F1-score\n",
      "0      Linear  0.804651   0.726027  0.149296  0.247664\n",
      "1  Polynomial  0.824874   0.749373  0.280751  0.408470\n",
      "2         RBF  0.824267   0.740196  0.283568  0.410048\n",
      "\n",
      "Best SVM model:  Linear\n"
     ]
    }
   ],
   "source": [
    "# create a performance dataframe for SVMs\n",
    "performance_svm = pd.DataFrame({\n",
    "    'Model': ['Linear', 'Polynomial', 'RBF'],\n",
    "    'Accuracy': [accuracy_svm_linear, accuracy_svm_poly, accuracy_svm_rbf],\n",
    "    'Precision': [precision_svm_linear, precision_svm_poly, precision_svm_rbf],\n",
    "    'Recall': [recall_svm_linear, recall_svm_poly, recall_svm_rbf],\n",
    "    'F1-score': [f1_svm_linear, f1_svm_poly, f1_svm_rbf]\n",
    "})\n",
    "\n",
    "print(performance_svm)\n",
    "\n",
    "# find the best performance\n",
    "performance_sorted_svm = performance_svm.sort_values(by='F1-score', ascending=False)\n",
    "best_model_svm = performance_svm.iloc[0]['Model']\n",
    "best_f1_score_svm = performance_svm.iloc[0]['F1-score']\n",
    "\n",
    "print(\"\\nBest SVM model: \", best_model_svm)"
   ]
  },
  {
   "cell_type": "code",
   "execution_count": 30,
   "id": "7ecca938",
   "metadata": {
    "scrolled": true
   },
   "outputs": [
    {
     "name": "stdout",
     "output_type": "stream",
     "text": [
      "Random Forest time:  2.0684473514556885\n",
      "Logistic Regression CV time:  2.227932929992676\n",
      "\n",
      "Fastest:  Random Forest\n"
     ]
    }
   ],
   "source": [
    "if elapsed_time_rf < elapsed_time_lr_cv:\n",
    "    fastest = \"Random Forest\"\n",
    "else:\n",
    "    fastest = \"Logistic Regression CV\"\n",
    "\n",
    "print(\"Random Forest time: \", elapsed_time_rf)\n",
    "print(\"Logistic Regression CV time: \", elapsed_time_lr_cv)\n",
    "print(\"\\nFastest: \", fastest)"
   ]
  }
 ],
 "metadata": {
  "kernelspec": {
   "display_name": "Python 3 (ipykernel)",
   "language": "python",
   "name": "python3"
  },
  "language_info": {
   "codemirror_mode": {
    "name": "ipython",
    "version": 3
   },
   "file_extension": ".py",
   "mimetype": "text/x-python",
   "name": "python",
   "nbconvert_exporter": "python",
   "pygments_lexer": "ipython3",
   "version": "3.11.3"
  }
 },
 "nbformat": 4,
 "nbformat_minor": 5
}
