{
 "cells": [
  {
   "cell_type": "markdown",
   "id": "d18c88bc",
   "metadata": {},
   "source": [
    "### Data processing\n",
    "This file contains a comparison of several **supervised machine learning models** applied to pre-processed data."
   ]
  },
  {
   "cell_type": "code",
   "execution_count": 40,
   "id": "765e23ed",
   "metadata": {},
   "outputs": [],
   "source": [
    "import data_preprocessing as dp\n",
    "import numpy as np\n",
    "import pandas as pd\n",
    "import warnings\n",
    "import time"
   ]
  },
  {
   "cell_type": "code",
   "execution_count": 3,
   "id": "b1c73044",
   "metadata": {},
   "outputs": [],
   "source": [
    "from sklearn.linear_model import LogisticRegression\n",
    "from sklearn.model_selection import (\n",
    "    KFold,\n",
    "    RandomizedSearchCV,\n",
    "    train_test_split,\n",
    "    cross_val_score,\n",
    "    learning_curve,\n",
    "    validation_curve\n",
    ")\n",
    "from sklearn.linear_model import (\n",
    "    LogisticRegression,\n",
    "    Ridge\n",
    ")\n",
    "from sklearn.tree import DecisionTreeClassifier\n",
    "from sklearn.ensemble import RandomForestClassifier\n",
    "from sklearn import svm\n",
    "from sklearn.metrics import (\n",
    "    accuracy_score,\n",
    "    confusion_matrix,\n",
    "    precision_score,\n",
    "    recall_score,\n",
    "    roc_curve,\n",
    "    roc_auc_score,\n",
    "    f1_score\n",
    ")\n",
    "from sklearn.preprocessing import MinMaxScaler\n",
    "from scipy.stats import randint"
   ]
  },
  {
   "cell_type": "markdown",
   "id": "6a0e3623",
   "metadata": {},
   "source": [
    "Split of the dataset in target and input variables"
   ]
  },
  {
   "cell_type": "code",
   "execution_count": 4,
   "id": "b58bc1c6",
   "metadata": {},
   "outputs": [],
   "source": [
    "y = dp.X['RainTomorrow']\n",
    "X = dp.X.drop(['RainTomorrow'], axis=1)"
   ]
  },
  {
   "cell_type": "markdown",
   "id": "7c42fff3",
   "metadata": {
    "scrolled": true
   },
   "source": [
    "Function to split of the dataset in 2 parts (80%-20%), which is used in some models."
   ]
  },
  {
   "cell_type": "code",
   "execution_count": 5,
   "id": "aa2c7586",
   "metadata": {},
   "outputs": [],
   "source": [
    "def split_df(X, y):\n",
    "    X_train, X_test, y_train, y_test = train_test_split(X, y, test_size=0.2, shuffle=True, random_state=42)\n",
    "    return X_train, X_test, y_train, y_test"
   ]
  },
  {
   "cell_type": "code",
   "execution_count": 6,
   "id": "94de9408",
   "metadata": {},
   "outputs": [],
   "source": [
    "X_train, X_test, y_train, y_test = split_df(X, y)"
   ]
  },
  {
   "cell_type": "markdown",
   "id": "5b99fc3d",
   "metadata": {},
   "source": [
    "#### Logistic Regression"
   ]
  },
  {
   "cell_type": "code",
   "execution_count": 7,
   "id": "b36a858e",
   "metadata": {},
   "outputs": [],
   "source": [
    "def logistic_regression(X_train, X_test, y_train, y_test):\n",
    "    with warnings.catch_warnings():\n",
    "        warnings.simplefilter(\"ignore\")\n",
    "        log_reg = LogisticRegression()\n",
    "        log_reg.fit(X_train, y_train)\n",
    "        y_pred = log_reg.predict(X_test)\n",
    "    return log_reg, y_pred"
   ]
  },
  {
   "cell_type": "code",
   "execution_count": 43,
   "id": "dc1c4e9c",
   "metadata": {
    "scrolled": true
   },
   "outputs": [],
   "source": [
    "log_reg, y_pred_log_reg = logistic_regression(X_train, X_test, y_train, y_test)\n",
    "\n",
    "accuracy_log_reg = log_reg.score(X_test, y_test)\n",
    "precision_log_reg = precision_score(y_test, y_pred_log_reg)\n",
    "recall_log_reg = recall_score(y_test, y_pred_log_reg)\n",
    "f1_log_reg = f1_score(y_test, y_pred_log_reg)"
   ]
  },
  {
   "cell_type": "markdown",
   "id": "27f6e2e4",
   "metadata": {},
   "source": [
    "K-Fold Cross Validation"
   ]
  },
  {
   "cell_type": "code",
   "execution_count": 9,
   "id": "662ccc39",
   "metadata": {},
   "outputs": [],
   "source": [
    "def logistic_regression_kfold(X, y, n_splits=5, max_iter=800):\n",
    "    with warnings.catch_warnings():\n",
    "        warnings.simplefilter(\"ignore\")\n",
    "        kfold = KFold(n_splits=n_splits, shuffle=True, random_state=42)\n",
    "        model = LogisticRegression(max_iter=max_iter)\n",
    "        accuracy_scores = cross_val_score(model, X, y, cv=kfold, scoring='accuracy')\n",
    "        precision_scores = cross_val_score(model, X, y, cv=kfold, scoring='precision')\n",
    "        recall_scores = cross_val_score(model, X, y, cv=kfold, scoring='recall')\n",
    "        f1_scores = cross_val_score(model, X, y, cv=kfold, scoring='f1')\n",
    "        # evaluation metrics\n",
    "        mean_accuracy_score = np.mean(accuracy_scores)\n",
    "        mean_precision_score = np.mean(precision_scores)\n",
    "        mean_recall_score = np.mean(recall_scores)\n",
    "        mean_f1_score = np.mean(f1_scores)\n",
    "    return accuracy_scores, mean_accuracy_score, precision_scores, mean_precision_score, recall_scores, mean_recall_score, f1_scores, mean_f1_score"
   ]
  },
  {
   "cell_type": "code",
   "execution_count": 47,
   "id": "2b041066",
   "metadata": {
    "scrolled": true
   },
   "outputs": [],
   "source": [
    "start_time_lr_cv = time.time()\n",
    "lr_acc, lr_acc_mean, _, _, _, _, _, _ = logistic_regression_kfold(X, y)\n",
    "end_time_lr_cv = time.time()\n",
    "\n",
    "_, _, lr_prec, lr_prec_mean, _, _, _, _ = logistic_regression_kfold(X, y)\n",
    "_, _, _, _, lr_rec, lr_rec_mean, _, _ = logistic_regression_kfold(X, y)\n",
    "_, _, _, _, _, _, lr_f1, lr_f1_mean = logistic_regression_kfold(X, y)\n",
    "\n",
    "elapsed_time_lr_cv = end_time_lr_cv - start_time_lr_cv"
   ]
  },
  {
   "cell_type": "markdown",
   "id": "7e496cb4",
   "metadata": {},
   "source": [
    "#### Decision Tree"
   ]
  },
  {
   "cell_type": "code",
   "execution_count": 11,
   "id": "5379771e",
   "metadata": {},
   "outputs": [],
   "source": [
    "def decision_tree(X_train, X_test, y_train, y_test):\n",
    "    dt = DecisionTreeClassifier()\n",
    "    dt.fit(X_train, y_train)\n",
    "    y_pred = dt.predict(X_test)\n",
    "    return dt, y_pred"
   ]
  },
  {
   "cell_type": "code",
   "execution_count": 12,
   "id": "4bbc2fa7",
   "metadata": {},
   "outputs": [],
   "source": [
    "dt, y_pred_dt = decision_tree(X_train, X_test, y_train, y_test)\n",
    "\n",
    "accuracy_dt = dt.score(X_test, y_test)\n",
    "precision_dt = precision_score(y_test, y_pred_dt)\n",
    "recall_dt = recall_score(y_test, y_pred_dt)\n",
    "f1_dt = f1_score(y_test, y_pred_dt)"
   ]
  },
  {
   "cell_type": "markdown",
   "id": "59dcc865",
   "metadata": {},
   "source": [
    "K-Fold Cross Validation"
   ]
  },
  {
   "cell_type": "code",
   "execution_count": 13,
   "id": "02a31789",
   "metadata": {},
   "outputs": [],
   "source": [
    "def decision_tree_kfold(X, y, n_splits=5, max_iter=800):\n",
    "    dt = DecisionTreeClassifier()\n",
    "    kfold = KFold(n_splits=n_splits, shuffle=True, random_state=42)\n",
    "    accuracy_scores = cross_val_score(dt, X, y, cv=kfold, scoring='accuracy')\n",
    "    precision_scores = cross_val_score(dt, X, y, cv=kfold, scoring='precision')\n",
    "    recall_scores = cross_val_score(dt, X, y, cv=kfold, scoring='recall')\n",
    "    f1_scores = cross_val_score(dt, X, y, cv=kfold, scoring='f1')\n",
    "    # evaluation metrics\n",
    "    mean_accuracy_score = np.mean(accuracy_scores)\n",
    "    mean_precision_score = np.mean(precision_scores)\n",
    "    mean_recall_score = np.mean(recall_scores)\n",
    "    mean_f1_score = np.mean(f1_scores)\n",
    "    return accuracy_scores, mean_accuracy_score, precision_scores, mean_precision_score, recall_scores, mean_recall_score, f1_scores, mean_f1_score\n"
   ]
  },
  {
   "cell_type": "code",
   "execution_count": 14,
   "id": "f86c086e",
   "metadata": {},
   "outputs": [],
   "source": [
    "dt_acc, dt_acc_mean, _, _, _, _, _, _ = decision_tree_kfold(X, y)\n",
    "_, _, dt_prec, dt_prec_mean, _, _, _, _ = decision_tree_kfold(X, y)\n",
    "_, _, _, _, dt_rec, dt_rec_mean, _, _ = decision_tree_kfold(X, y)\n",
    "_, _, _, _, _, _, dt_f1, dt_f1_mean = decision_tree_kfold(X, y)"
   ]
  },
  {
   "cell_type": "markdown",
   "id": "51a44a8e",
   "metadata": {},
   "source": [
    "#### Random Forest"
   ]
  },
  {
   "cell_type": "code",
   "execution_count": 17,
   "id": "e70297bd",
   "metadata": {},
   "outputs": [],
   "source": [
    "def random_forest(X_train, X_test, y_train, y_test):\n",
    "    rf = RandomForestClassifier(n_estimators=100) # 100 trees\n",
    "    rf.fit(X_train, y_train)\n",
    "    y_pred = rf.predict(X_test)\n",
    "    return rf, y_pred"
   ]
  },
  {
   "cell_type": "code",
   "execution_count": 44,
   "id": "53315846",
   "metadata": {
    "scrolled": true
   },
   "outputs": [],
   "source": [
    "start_time_rf = time.time()\n",
    "rf, y_pred_rf = random_forest(X_train, X_test, y_train, y_test)\n",
    "end_time_rf = time.time()\n",
    "\n",
    "accuracy_rf = accuracy_score(y_test, y_pred_rf)\n",
    "precision_rf = precision_score(y_test, y_pred_rf)\n",
    "recall_rf = recall_score(y_test, y_pred_rf)\n",
    "f1_rf = f1_score(y_test, y_pred_rf)\n",
    "\n",
    "elapsed_time_rf = end_time_rf - start_time_rf"
   ]
  },
  {
   "cell_type": "markdown",
   "id": "c5d8408c",
   "metadata": {},
   "source": [
    "K-Fold Cross Validation"
   ]
  },
  {
   "cell_type": "code",
   "execution_count": 15,
   "id": "aa1821b0",
   "metadata": {},
   "outputs": [],
   "source": [
    "def random_forest_kfold(X, y, n_splits=5):\n",
    "    rf = RandomForestClassifier(n_estimators=100) # 100 trees\n",
    "    kfold = KFold(n_splits=n_splits, shuffle=True, random_state=42)\n",
    "    accuracy_scores = cross_val_score(rf, X, y, cv=kfold, scoring='accuracy')\n",
    "    precision_scores = cross_val_score(rf, X, y, cv=kfold, scoring='precision')\n",
    "    recall_scores = cross_val_score(rf, X, y, cv=kfold, scoring='recall')\n",
    "    f1_scores = cross_val_score(rf, X, y, cv=kfold, scoring='f1')\n",
    "    # evaluation metrics\n",
    "    mean_accuracy_score = np.mean(accuracy_scores)\n",
    "    mean_precision_score = np.mean(precision_scores)\n",
    "    mean_recall_score = np.mean(recall_scores)\n",
    "    mean_f1_score = np.mean(f1_scores)\n",
    "    return accuracy_scores, mean_accuracy_score, precision_scores, mean_precision_score, recall_scores, mean_recall_score, f1_scores, mean_f1_score"
   ]
  },
  {
   "cell_type": "code",
   "execution_count": 16,
   "id": "0343d6f5",
   "metadata": {
    "scrolled": true
   },
   "outputs": [],
   "source": [
    "rf_acc, rf_acc_mean, _, _, _, _, _, _ = decision_tree_kfold(X, y)\n",
    "_, _, rf_prec, rf_prec_mean, _, _, _, _ = decision_tree_kfold(X, y)\n",
    "_, _, _, _, rf_rec, rf_rec_mean, _, _ = decision_tree_kfold(X, y)\n",
    "_, _, _, _, _, _, rf_f1, rf_f1_mean = decision_tree_kfold(X, y)"
   ]
  },
  {
   "cell_type": "markdown",
   "id": "f40777f1",
   "metadata": {},
   "source": [
    "#### SVM\n",
    "Linear, polinomial and radial basis function kernels."
   ]
  },
  {
   "cell_type": "code",
   "execution_count": 19,
   "id": "8e7cd033",
   "metadata": {},
   "outputs": [],
   "source": [
    "def svm_linear(X_train, X_test, y_train, y_test):\n",
    "    svm_linear_model = svm.SVC(kernel='linear', C=1, random_state=42)\n",
    "    svm_linear_model.fit(X_train, y_train)\n",
    "    y_pred = svm_linear_model.predict(X_test)\n",
    "    return svm_linear_model, y_pred"
   ]
  },
  {
   "cell_type": "code",
   "execution_count": 32,
   "id": "af3bd02a",
   "metadata": {},
   "outputs": [],
   "source": [
    "def svm_poly(X_train, X_test, y_train, y_test):\n",
    "    svm_poly_model = svm.SVC(kernel='poly', C=1, random_state=42)\n",
    "    svm_poly_model.fit(X_train, y_train)\n",
    "    y_pred = svm_poly_model.predict(X_test)\n",
    "    return svm_poly_model, y_pred"
   ]
  },
  {
   "cell_type": "code",
   "execution_count": 33,
   "id": "8e4d0c68",
   "metadata": {},
   "outputs": [],
   "source": [
    "def svm_rbf(X_train, X_test, y_train, y_test):\n",
    "    svm_rbf_model = svm.SVC(kernel='rbf', C=1, random_state=42)\n",
    "    svm_rbf_model.fit(X_train, y_train)\n",
    "    y_pred = svm_rbf_model.predict(X_test)\n",
    "    return svm_rbf_model, y_pred"
   ]
  },
  {
   "cell_type": "code",
   "execution_count": 36,
   "id": "f2975cea",
   "metadata": {},
   "outputs": [],
   "source": [
    "svm_linear, y_pred_svm_lin = svm_linear(X_train, X_test, y_train, y_test)\n",
    "accuracy_svm_linear = accuracy_score(y_test, y_pred_svm_lin)\n",
    "precision_svm_linear = precision_score(y_test, y_pred_svm_lin)\n",
    "recall_svm_linear = recall_score(y_test, y_pred_svm_lin)\n",
    "f1_svm_linear = f1_score(y_test, y_pred_svm_lin)"
   ]
  },
  {
   "cell_type": "code",
   "execution_count": 37,
   "id": "cbd1e73d",
   "metadata": {
    "scrolled": true
   },
   "outputs": [],
   "source": [
    "svm_poly, y_pred_svm_poly = svm_poly(X_train, X_test, y_train, y_test)\n",
    "accuracy_svm_poly = accuracy_score(y_test, y_pred_svm_poly)\n",
    "precision_svm_poly = precision_score(y_test, y_pred_svm_poly)\n",
    "recall_svm_poly = recall_score(y_test, y_pred_svm_poly)\n",
    "f1_svm_poly = f1_score(y_test, y_pred_svm_poly)"
   ]
  },
  {
   "cell_type": "code",
   "execution_count": 38,
   "id": "7af172c1",
   "metadata": {
    "scrolled": true
   },
   "outputs": [],
   "source": [
    "svm_rbf, y_pred_svm_rbf = svm_rbf(X_train, X_test, y_train, y_test)\n",
    "accuracy_svm_rbf = accuracy_score(y_test, y_pred_svm_rbf)\n",
    "precision_svm_rbf = precision_score(y_test, y_pred_svm_rbf)\n",
    "recall_svm_rbf = recall_score(y_test, y_pred_svm_rbf)\n",
    "f1_svm_rbf = f1_score(y_test, y_pred_svm_rbf)"
   ]
  },
  {
   "cell_type": "markdown",
   "id": "af007ca2",
   "metadata": {},
   "source": [
    "K-Fold Cross Validation"
   ]
  },
  {
   "cell_type": "code",
   "execution_count": 21,
   "id": "95c52161",
   "metadata": {},
   "outputs": [],
   "source": [
    "def svm_kfold(X, y, n_splits=5):\n",
    "    svm_model = svm.SVC(kernel='linear', C=1, random_state=42)\n",
    "    svm_model.fit(X, y)\n",
    "    kfold = KFold(n_splits=n_splits, shuffle=True, random_state=42)\n",
    "    accuracy_scores = cross_val_score(svm_model, X, y, cv=kfold, scoring='accuracy')\n",
    "    precision_scores = cross_val_score(svm_model, X, y, cv=kfold, scoring='precision')\n",
    "    recall_scores = cross_val_score(svm_model, X, y, cv=kfold, scoring='recall')\n",
    "    f1_scores = cross_val_score(svm_model, X, y, cv=kfold, scoring='f1')\n",
    "    # evaluation metrics\n",
    "    mean_accuracy_score = np.mean(accuracy_scores)\n",
    "    mean_precision_score = np.mean(precision_scores)\n",
    "    mean_recall_score = np.mean(recall_scores)\n",
    "    mean_f1_score = np.mean(f1_scores)\n",
    "    return accuracy_scores, mean_accuracy_score, precision_scores, mean_precision_score, recall_scores, mean_recall_score, f1_scores, mean_f1_score"
   ]
  },
  {
   "cell_type": "code",
   "execution_count": 22,
   "id": "3a02a1bf",
   "metadata": {
    "scrolled": true
   },
   "outputs": [],
   "source": [
    "svm_acc, svm_acc_mean, _, _, _, _, _, _ = decision_tree_kfold(X, y)\n",
    "_, _, svm_prec, svm_prec_mean, _, _, _, _ = decision_tree_kfold(X, y)\n",
    "_, _, _, _, svm_rec, svm_rec_mean, _, _ = decision_tree_kfold(X, y)\n",
    "_, _, _, _, _, _, svm_f1, svm_f1_mean = decision_tree_kfold(X, y)"
   ]
  },
  {
   "cell_type": "markdown",
   "id": "1cfd2a7f",
   "metadata": {},
   "source": [
    "#### Accuracy comparison"
   ]
  },
  {
   "cell_type": "code",
   "execution_count": 53,
   "id": "61ff0966",
   "metadata": {
    "scrolled": true
   },
   "outputs": [
    {
     "name": "stdout",
     "output_type": "stream",
     "text": [
      "                 Model  Accuracy  Precision    Recall  F1-score\n",
      "0  Logistic Regression  0.825480   0.670034  0.373709  0.479807\n",
      "1        Decision Tree  0.745804   0.414591  0.437559  0.425765\n",
      "2        Random Forest  0.824671   0.659164  0.384977  0.486070\n",
      "3  SVM (Linear Kernel)  0.804651   0.726027  0.149296  0.247664\n",
      "\n",
      "Best model:  Random Forest\n"
     ]
    }
   ],
   "source": [
    "# create a performance dataframe\n",
    "performance = pd.DataFrame({\n",
    "    'Model': ['Logistic Regression', 'Decision Tree', 'Random Forest', 'SVM (Linear Kernel)'],\n",
    "    'Accuracy': [accuracy_log_reg, accuracy_dt, accuracy_rf, accuracy_svm_linear_model],\n",
    "    'Precision': [precision_log_reg, precision_dt, precision_rf, precision_svm_linear_model],\n",
    "    'Recall': [recall_log_reg, recall_dt, recall_rf, recall_svm_linear_model],\n",
    "    'F1-score': [f1_log_reg, f1_dt, f1_rf, f1_svm_linear_model]\n",
    "})\n",
    "\n",
    "print(performance)\n",
    "\n",
    "# find the best performance\n",
    "performance_sorted = performance.sort_values(by='F1-score', ascending=False)\n",
    "best_model = performance_sorted.iloc[0]['Model']\n",
    "best_f1_score = performance_sorted.iloc[0]['F1-score']\n",
    "\n",
    "print(\"\\nBest model: \", best_model)"
   ]
  },
  {
   "cell_type": "code",
   "execution_count": 54,
   "id": "4ab66992",
   "metadata": {},
   "outputs": [
    {
     "name": "stdout",
     "output_type": "stream",
     "text": [
      "                 Model  Accuracy  Precision    Recall  F1-score\n",
      "0  Logistic Regression  0.822863   0.683127  0.374372  0.483427\n",
      "1        Decision Tree  0.745844   0.432635  0.450620  0.443794\n",
      "2        Random Forest  0.746410   0.431223  0.450363  0.442156\n",
      "3  SVM (Linear Kernel)  0.749080   0.431331  0.455335  0.445277\n",
      "\n",
      "Best CV model:  Logistic Regression\n"
     ]
    }
   ],
   "source": [
    "# create a performance dataframe for CV\n",
    "performance_cv = pd.DataFrame({\n",
    "    'Model': ['Logistic Regression', 'Decision Tree', 'Random Forest', 'SVM (Linear Kernel)'],\n",
    "    'Accuracy': [lr_acc_mean, dt_acc_mean, rf_acc_mean, svm_acc_mean],\n",
    "    'Precision': [lr_prec_mean, dt_prec_mean, rf_prec_mean, svm_prec_mean],\n",
    "    'Recall': [lr_rec_mean, dt_rec_mean, rf_rec_mean, svm_rec_mean],\n",
    "    'F1-score': [lr_f1_mean, dt_f1_mean, rf_f1_mean, svm_f1_mean]\n",
    "})\n",
    "\n",
    "print(performance_cv)\n",
    "\n",
    "# find the best performance\n",
    "performance_sorted_cv = performance_cv.sort_values(by='F1-score', ascending=False)\n",
    "best_model_cv = performance_cv.iloc[0]['Model']\n",
    "best_f1_score_cv = performance_cv.iloc[0]['F1-score']\n",
    "\n",
    "print(\"\\nBest CV model: \", best_model_cv)"
   ]
  },
  {
   "cell_type": "code",
   "execution_count": 55,
   "id": "ef3667a7",
   "metadata": {},
   "outputs": [
    {
     "name": "stdout",
     "output_type": "stream",
     "text": [
      "        Model  Accuracy  Precision    Recall  F1-score\n",
      "0      Linear  0.804651   0.726027  0.149296  0.247664\n",
      "1  Polynomial  0.824874   0.749373  0.280751  0.408470\n",
      "2         RBF  0.824267   0.740196  0.283568  0.410048\n",
      "\n",
      "Best SVM model:  Linear\n"
     ]
    }
   ],
   "source": [
    "# create a performance dataframe for SVMs\n",
    "performance_svm = pd.DataFrame({\n",
    "    'Model': ['Linear', 'Polynomial', 'RBF'],\n",
    "    'Accuracy': [accuracy_svm_linear, accuracy_svm_poly, accuracy_svm_rbf],\n",
    "    'Precision': [precision_svm_linear, precision_svm_poly, precision_svm_rbf],\n",
    "    'Recall': [recall_svm_linear, recall_svm_poly, recall_svm_rbf],\n",
    "    'F1-score': [f1_svm_linear, f1_svm_poly, f1_svm_rbf]\n",
    "})\n",
    "\n",
    "print(performance_svm)\n",
    "\n",
    "# find the best performance\n",
    "performance_sorted_svm = performance_svm.sort_values(by='F1-score', ascending=False)\n",
    "best_model_svm = performance_svm.iloc[0]['Model']\n",
    "best_f1_score_svm = performance_svm.iloc[0]['F1-score']\n",
    "\n",
    "print(\"\\nBest SVM model: \", best_model_svm)"
   ]
  },
  {
   "cell_type": "code",
   "execution_count": 50,
   "id": "7ecca938",
   "metadata": {
    "scrolled": true
   },
   "outputs": [
    {
     "name": "stdout",
     "output_type": "stream",
     "text": [
      "Random Forest time:  2.201897382736206\n",
      "Logistic Regression CV time:  2.9596216678619385\n",
      "\n",
      "Fastest:  Random Forest\n"
     ]
    }
   ],
   "source": [
    "if elapsed_time_rf < elapsed_time_lr_cv:\n",
    "    fastest = \"Random Forest\"\n",
    "else:\n",
    "    fastest = \"Logistic Regression CV\"\n",
    "\n",
    "print(\"Random Forest time: \", elapsed_time_rf)\n",
    "print(\"Logistic Regression CV time: \", elapsed_time_lr_cv)\n",
    "print(\"\\nFastest: \", fastest)"
   ]
  },
  {
   "cell_type": "markdown",
   "id": "cfc1b9db",
   "metadata": {},
   "source": [
    "\n",
    "#### Random Forest Improvement"
   ]
  },
  {
   "cell_type": "code",
   "execution_count": 65,
   "id": "8d04537c",
   "metadata": {},
   "outputs": [
    {
     "data": {
      "text/html": [
       "<style>#sk-container-id-1 {color: black;background-color: white;}#sk-container-id-1 pre{padding: 0;}#sk-container-id-1 div.sk-toggleable {background-color: white;}#sk-container-id-1 label.sk-toggleable__label {cursor: pointer;display: block;width: 100%;margin-bottom: 0;padding: 0.3em;box-sizing: border-box;text-align: center;}#sk-container-id-1 label.sk-toggleable__label-arrow:before {content: \"▸\";float: left;margin-right: 0.25em;color: #696969;}#sk-container-id-1 label.sk-toggleable__label-arrow:hover:before {color: black;}#sk-container-id-1 div.sk-estimator:hover label.sk-toggleable__label-arrow:before {color: black;}#sk-container-id-1 div.sk-toggleable__content {max-height: 0;max-width: 0;overflow: hidden;text-align: left;background-color: #f0f8ff;}#sk-container-id-1 div.sk-toggleable__content pre {margin: 0.2em;color: black;border-radius: 0.25em;background-color: #f0f8ff;}#sk-container-id-1 input.sk-toggleable__control:checked~div.sk-toggleable__content {max-height: 200px;max-width: 100%;overflow: auto;}#sk-container-id-1 input.sk-toggleable__control:checked~label.sk-toggleable__label-arrow:before {content: \"▾\";}#sk-container-id-1 div.sk-estimator input.sk-toggleable__control:checked~label.sk-toggleable__label {background-color: #d4ebff;}#sk-container-id-1 div.sk-label input.sk-toggleable__control:checked~label.sk-toggleable__label {background-color: #d4ebff;}#sk-container-id-1 input.sk-hidden--visually {border: 0;clip: rect(1px 1px 1px 1px);clip: rect(1px, 1px, 1px, 1px);height: 1px;margin: -1px;overflow: hidden;padding: 0;position: absolute;width: 1px;}#sk-container-id-1 div.sk-estimator {font-family: monospace;background-color: #f0f8ff;border: 1px dotted black;border-radius: 0.25em;box-sizing: border-box;margin-bottom: 0.5em;}#sk-container-id-1 div.sk-estimator:hover {background-color: #d4ebff;}#sk-container-id-1 div.sk-parallel-item::after {content: \"\";width: 100%;border-bottom: 1px solid gray;flex-grow: 1;}#sk-container-id-1 div.sk-label:hover label.sk-toggleable__label {background-color: #d4ebff;}#sk-container-id-1 div.sk-serial::before {content: \"\";position: absolute;border-left: 1px solid gray;box-sizing: border-box;top: 0;bottom: 0;left: 50%;z-index: 0;}#sk-container-id-1 div.sk-serial {display: flex;flex-direction: column;align-items: center;background-color: white;padding-right: 0.2em;padding-left: 0.2em;position: relative;}#sk-container-id-1 div.sk-item {position: relative;z-index: 1;}#sk-container-id-1 div.sk-parallel {display: flex;align-items: stretch;justify-content: center;background-color: white;position: relative;}#sk-container-id-1 div.sk-item::before, #sk-container-id-1 div.sk-parallel-item::before {content: \"\";position: absolute;border-left: 1px solid gray;box-sizing: border-box;top: 0;bottom: 0;left: 50%;z-index: -1;}#sk-container-id-1 div.sk-parallel-item {display: flex;flex-direction: column;z-index: 1;position: relative;background-color: white;}#sk-container-id-1 div.sk-parallel-item:first-child::after {align-self: flex-end;width: 50%;}#sk-container-id-1 div.sk-parallel-item:last-child::after {align-self: flex-start;width: 50%;}#sk-container-id-1 div.sk-parallel-item:only-child::after {width: 0;}#sk-container-id-1 div.sk-dashed-wrapped {border: 1px dashed gray;margin: 0 0.4em 0.5em 0.4em;box-sizing: border-box;padding-bottom: 0.4em;background-color: white;}#sk-container-id-1 div.sk-label label {font-family: monospace;font-weight: bold;display: inline-block;line-height: 1.2em;}#sk-container-id-1 div.sk-label-container {text-align: center;}#sk-container-id-1 div.sk-container {/* jupyter's `normalize.less` sets `[hidden] { display: none; }` but bootstrap.min.css set `[hidden] { display: none !important; }` so we also need the `!important` here to be able to override the default hidden behavior on the sphinx rendered scikit-learn.org. See: https://github.com/scikit-learn/scikit-learn/issues/21755 */display: inline-block !important;position: relative;}#sk-container-id-1 div.sk-text-repr-fallback {display: none;}</style><div id=\"sk-container-id-1\" class=\"sk-top-container\"><div class=\"sk-text-repr-fallback\"><pre>RandomForestClassifier(max_depth=20, max_features=8, min_samples_leaf=3,\n",
       "                       min_samples_split=10, n_estimators=449)</pre><b>In a Jupyter environment, please rerun this cell to show the HTML representation or trust the notebook. <br />On GitHub, the HTML representation is unable to render, please try loading this page with nbviewer.org.</b></div><div class=\"sk-container\" hidden><div class=\"sk-item\"><div class=\"sk-estimator sk-toggleable\"><input class=\"sk-toggleable__control sk-hidden--visually\" id=\"sk-estimator-id-1\" type=\"checkbox\" checked><label for=\"sk-estimator-id-1\" class=\"sk-toggleable__label sk-toggleable__label-arrow\">RandomForestClassifier</label><div class=\"sk-toggleable__content\"><pre>RandomForestClassifier(max_depth=20, max_features=8, min_samples_leaf=3,\n",
       "                       min_samples_split=10, n_estimators=449)</pre></div></div></div></div></div>"
      ],
      "text/plain": [
       "RandomForestClassifier(max_depth=20, max_features=8, min_samples_leaf=3,\n",
       "                       min_samples_split=10, n_estimators=449)"
      ]
     },
     "execution_count": 65,
     "metadata": {},
     "output_type": "execute_result"
    }
   ],
   "source": [
    "param_distributions = {\"n_estimators\": randint(100, 1000),\n",
    "                       \"min_samples_split\": randint(2, 20),\n",
    "                       \"min_samples_leaf\": randint(1, 10),\n",
    "                       \"max_features\": randint(1, 10)}\n",
    "\n",
    "rf = RandomForestClassifier(max_depth=20)\n",
    "\n",
    "random_search = RandomizedSearchCV(rf, param_distributions=param_distributions, n_iter=50, cv=5, n_jobs=-1)\n",
    "random_search.fit(X_train, y_train)\n",
    "\n",
    "best_params = random_search.best_params_\n",
    "\n",
    "rf_impr = RandomForestClassifier(n_estimators=best_params[\"n_estimators\"],\n",
    "                                  max_depth=20,\n",
    "                                  min_samples_split=best_params[\"min_samples_split\"],\n",
    "                                  min_samples_leaf=best_params[\"min_samples_leaf\"],\n",
    "                                  max_features=best_params[\"max_features\"])\n",
    "\n",
    "rf_impr.fit(X_train, y_train)"
   ]
  },
  {
   "cell_type": "code",
   "execution_count": null,
   "id": "eff91159",
   "metadata": {},
   "outputs": [],
   "source": [
    "accuracy_rf_impr = accuracy_score(y_test, y_pred_rf_impr)\n",
    "print(accuracy_rf_impr)"
   ]
  }
 ],
 "metadata": {
  "kernelspec": {
   "display_name": "Python 3 (ipykernel)",
   "language": "python",
   "name": "python3"
  },
  "language_info": {
   "codemirror_mode": {
    "name": "ipython",
    "version": 3
   },
   "file_extension": ".py",
   "mimetype": "text/x-python",
   "name": "python",
   "nbconvert_exporter": "python",
   "pygments_lexer": "ipython3",
   "version": "3.11.3"
  }
 },
 "nbformat": 4,
 "nbformat_minor": 5
}
