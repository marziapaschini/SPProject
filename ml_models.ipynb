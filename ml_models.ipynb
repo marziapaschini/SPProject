{
 "cells": [
  {
   "cell_type": "markdown",
   "id": "d18c88bc",
   "metadata": {},
   "source": [
    "### Data processing\n",
    "This file contains a comparison of several **supervised machine learning models** applied to pre-processed data."
   ]
  },
  {
   "cell_type": "code",
   "execution_count": 2,
   "id": "765e23ed",
   "metadata": {},
   "outputs": [],
   "source": [
    "import data_preprocessing as dp\n",
    "import numpy as np\n",
    "import pandas as pd\n",
    "import warnings\n",
    "import pickle"
   ]
  },
  {
   "cell_type": "code",
   "execution_count": 31,
   "id": "b1c73044",
   "metadata": {},
   "outputs": [],
   "source": [
    "from sklearn.feature_selection import (\n",
    "    SelectKBest,\n",
    "    f_classif,\n",
    "    chi2\n",
    ") \n",
    "from sklearn.linear_model import LogisticRegression\n",
    "from sklearn.model_selection import (\n",
    "    KFold,\n",
    "    RandomizedSearchCV,\n",
    "    train_test_split,\n",
    "    cross_val_score,\n",
    "    learning_curve,\n",
    "    validation_curve\n",
    ")\n",
    "from sklearn.linear_model import (\n",
    "    LogisticRegression,\n",
    "    Ridge\n",
    ")\n",
    "from sklearn.tree import DecisionTreeClassifier\n",
    "from sklearn.ensemble import RandomForestClassifier\n",
    "from sklearn import svm\n",
    "from sklearn.metrics import (\n",
    "    accuracy_score,\n",
    "    confusion_matrix,\n",
    "    precision_score,\n",
    "    recall_score,\n",
    "    roc_curve,\n",
    "    roc_auc_score,\n",
    "    f1_score\n",
    ")\n",
    "from sklearn.preprocessing import MinMaxScaler\n",
    "from scipy.stats import randint"
   ]
  },
  {
   "cell_type": "markdown",
   "id": "6a0e3623",
   "metadata": {},
   "source": [
    "Split of the dataset in target and input variables"
   ]
  },
  {
   "cell_type": "code",
   "execution_count": 4,
   "id": "b58bc1c6",
   "metadata": {},
   "outputs": [],
   "source": [
    "y = dp.X['RainTomorrow']\n",
    "X = dp.X.drop(['RainTomorrow'], axis=1)"
   ]
  },
  {
   "cell_type": "markdown",
   "id": "7c42fff3",
   "metadata": {
    "scrolled": true
   },
   "source": [
    "Function to split of the dataset in 2 parts (80%-20%), which is used in some models."
   ]
  },
  {
   "cell_type": "code",
   "execution_count": 10,
   "id": "aa2c7586",
   "metadata": {},
   "outputs": [],
   "source": [
    "def split_df(X, y):\n",
    "    X_train, X_test, y_train, y_test = train_test_split(X, y, test_size=0.2, shuffle=True, random_state=42)\n",
    "    return X_train, X_test, y_train, y_test"
   ]
  },
  {
   "cell_type": "code",
   "execution_count": 28,
   "id": "94de9408",
   "metadata": {},
   "outputs": [],
   "source": [
    "X_train, X_test, y_train, y_test = split_df(X, y)"
   ]
  },
  {
   "cell_type": "markdown",
   "id": "5b99fc3d",
   "metadata": {},
   "source": [
    "#### Logistic Regression"
   ]
  },
  {
   "cell_type": "code",
   "execution_count": 12,
   "id": "b36a858e",
   "metadata": {},
   "outputs": [],
   "source": [
    "def logistic_regression(X_train, X_test, y_train, y_test):\n",
    "    with warnings.catch_warnings():\n",
    "        warnings.simplefilter(\"ignore\")\n",
    "        model = LogisticRegression()\n",
    "        model.fit(X_train, y_train)\n",
    "    return model"
   ]
  },
  {
   "cell_type": "code",
   "execution_count": 13,
   "id": "dc1c4e9c",
   "metadata": {
    "scrolled": true
   },
   "outputs": [
    {
     "name": "stdout",
     "output_type": "stream",
     "text": [
      "0.8337714863498483\n"
     ]
    }
   ],
   "source": [
    "log_reg = logistic_regression(X_train, X_test, y_train, y_test)\n",
    "accuracy_log_reg = log_reg.score(X_test, y_test)\n",
    "print(accuracy_log_reg)"
   ]
  },
  {
   "cell_type": "markdown",
   "id": "27f6e2e4",
   "metadata": {},
   "source": [
    "K-Fold Cross Validation"
   ]
  },
  {
   "cell_type": "code",
   "execution_count": 43,
   "id": "662ccc39",
   "metadata": {},
   "outputs": [],
   "source": [
    "def logistic_regression_kfold(X, y, n_splits=5, max_iter=800):\n",
    "    with warnings.catch_warnings():\n",
    "        warnings.simplefilter(\"ignore\")\n",
    "        kfold = KFold(n_splits=n_splits, shuffle=True, random_state=42)\n",
    "        model = LogisticRegression(max_iter=max_iter)\n",
    "        scores = cross_val_score(model, X, y, cv=kfold)\n",
    "        mean_score = np.mean(scores)\n",
    "    return scores, mean_score"
   ]
  },
  {
   "cell_type": "code",
   "execution_count": 44,
   "id": "2b041066",
   "metadata": {
    "scrolled": true
   },
   "outputs": [
    {
     "name": "stdout",
     "output_type": "stream",
     "text": [
      "Cross-validation scores: [0.83822042 0.83940129 0.82281553 0.83313107 0.83778317]\n",
      "Mean cross-validation score: 0.83427029852651\n"
     ]
    }
   ],
   "source": [
    "log_reg_scores, log_reg_mean_score = logistic_regression_kfold(X, y)\n",
    "print(\"Cross-validation scores:\", log_reg_scores)\n",
    "print(\"Mean cross-validation score:\", log_reg_mean_score)"
   ]
  },
  {
   "cell_type": "markdown",
   "id": "7e496cb4",
   "metadata": {},
   "source": [
    "#### Decision Tree"
   ]
  },
  {
   "cell_type": "code",
   "execution_count": 13,
   "id": "5379771e",
   "metadata": {},
   "outputs": [],
   "source": [
    "def decision_tree(X_train, X_test, y_train, y_test):\n",
    "    dt = DecisionTreeClassifier()\n",
    "    dt.fit(X_train, y_train)\n",
    "    return dt"
   ]
  },
  {
   "cell_type": "code",
   "execution_count": 14,
   "id": "4bbc2fa7",
   "metadata": {},
   "outputs": [
    {
     "name": "stdout",
     "output_type": "stream",
     "text": [
      "0.7619817997977756\n"
     ]
    }
   ],
   "source": [
    "dt = decision_tree(X_train, X_test, y_train, y_test)\n",
    "accuracy_dt = dt.score(X_test, y_test)\n",
    "print(accuracy_dt)"
   ]
  },
  {
   "cell_type": "markdown",
   "id": "59dcc865",
   "metadata": {},
   "source": [
    "K-Fold Cross Validation"
   ]
  },
  {
   "cell_type": "code",
   "execution_count": 45,
   "id": "02a31789",
   "metadata": {},
   "outputs": [],
   "source": [
    "def decision_tree_kfold(X, y, n_splits=5, max_iter=800):\n",
    "    dt = DecisionTreeClassifier()\n",
    "    cv_scores = cross_val_score(dt, X, y, cv=5)\n",
    "    cv_scores_mean = cv_scores.mean()\n",
    "    return cv_scores, cv_scores_mean"
   ]
  },
  {
   "cell_type": "code",
   "execution_count": 46,
   "id": "f86c086e",
   "metadata": {},
   "outputs": [
    {
     "name": "stdout",
     "output_type": "stream",
     "text": [
      "Cross-validation scores: [0.78078868 0.79490291 0.71359223 0.44882686 0.66626214]\n",
      "Mean cross-validation score: 0.6808745635649098\n"
     ]
    }
   ],
   "source": [
    "dt_scores, dt_mean_score = decision_tree_kfold(X, y)\n",
    "print(\"Cross-validation scores:\", dt_scores)\n",
    "print(\"Mean cross-validation score:\", dt_mean_score)"
   ]
  },
  {
   "cell_type": "markdown",
   "id": "51a44a8e",
   "metadata": {},
   "source": [
    "#### Random Forest"
   ]
  },
  {
   "cell_type": "code",
   "execution_count": 54,
   "id": "e70297bd",
   "metadata": {},
   "outputs": [],
   "source": [
    "def random_forest(X_train, X_test, y_train, y_test):\n",
    "    rf = RandomForestClassifier(n_estimators=100) # 100 trees\n",
    "    rf.fit(X_train, y_train)\n",
    "    y_pred = rf.predict(X_test)\n",
    "    return rf, y_pred"
   ]
  },
  {
   "cell_type": "code",
   "execution_count": 9,
   "id": "53315846",
   "metadata": {
    "scrolled": true
   },
   "outputs": [
    {
     "name": "stdout",
     "output_type": "stream",
     "text": [
      "0.8404448938321537\n"
     ]
    }
   ],
   "source": [
    "rf, y_pred = random_forest(X_train, X_test, y_train, y_test)\n",
    "accuracy_rf = accuracy_score(y_test, y_pred)\n",
    "print(accuracy_rf)"
   ]
  },
  {
   "cell_type": "markdown",
   "id": "c5d8408c",
   "metadata": {},
   "source": [
    "K-Fold Cross Validation"
   ]
  },
  {
   "cell_type": "code",
   "execution_count": 51,
   "id": "aa1821b0",
   "metadata": {},
   "outputs": [],
   "source": [
    "def random_forest_kfold(X, y, n_splits=5):\n",
    "    rf = RandomForestClassifier(n_estimators=100) # 100 trees\n",
    "    kfold = KFold(n_splits=n_splits, shuffle=True, random_state=42)\n",
    "    cv_scores = cross_val_score(rf, X, y, cv=kfold)\n",
    "    cv_scores_mean = cv_scores.mean()\n",
    "    return cv_scores, cv_scores_mean"
   ]
  },
  {
   "cell_type": "code",
   "execution_count": 52,
   "id": "0343d6f5",
   "metadata": {
    "scrolled": true
   },
   "outputs": [
    {
     "name": "stdout",
     "output_type": "stream",
     "text": [
      "CV scores: [0.84186047 0.84648058 0.83677184 0.84263754 0.84223301]\n",
      "CV mean:  0.8419966884925115\n"
     ]
    }
   ],
   "source": [
    "rf_cv_scores, rf_cv_scores_mean = random_forest_kfold(X, y)\n",
    "print(\"CV scores:\", rf_cv_scores)\n",
    "print(\"CV mean: \", rf_cv_scores_mean)"
   ]
  },
  {
   "cell_type": "markdown",
   "id": "f40777f1",
   "metadata": {},
   "source": [
    "#### SVM\n",
    "Linear, polinomial and radial basis function kernels."
   ]
  },
  {
   "cell_type": "code",
   "execution_count": 22,
   "id": "8e7cd033",
   "metadata": {},
   "outputs": [],
   "source": [
    "def svm_linear(X_train, X_test, y_train, y_test):\n",
    "    svm_linear_model = svm.SVC(kernel='linear', C=1, random_state=42)\n",
    "    svm_linear_model.fit(X_train, y_train)\n",
    "    y_pred = svm_linear_model.predict(X_test)\n",
    "    return svm_linear_model, y_pred"
   ]
  },
  {
   "cell_type": "code",
   "execution_count": 27,
   "id": "af3bd02a",
   "metadata": {},
   "outputs": [],
   "source": [
    "def svm_poly(X_train, X_test, y_train, y_test):\n",
    "    svm_poly_model = svm.SVC(kernel='poly', C=1, random_state=42)\n",
    "    svm_poly_model.fit(X_train, y_train)\n",
    "    y_pred = svm_poly_model.predict(X_test)\n",
    "    return svm_poly_model, y_pred"
   ]
  },
  {
   "cell_type": "code",
   "execution_count": 28,
   "id": "8e4d0c68",
   "metadata": {},
   "outputs": [],
   "source": [
    "def svm_rbf(X_train, X_test, y_train, y_test):\n",
    "    svm_rbf_model = svm.SVC(kernel='rbf', C=1, random_state=42)\n",
    "    svm_rbf_model.fit(X_train, y_train)\n",
    "    y_pred = svm_rbf_model.predict(X_test)\n",
    "    return svm_rbf_model, y_pred"
   ]
  },
  {
   "cell_type": "code",
   "execution_count": 24,
   "id": "f2975cea",
   "metadata": {},
   "outputs": [
    {
     "name": "stdout",
     "output_type": "stream",
     "text": [
      "0.8378159757330637\n"
     ]
    }
   ],
   "source": [
    "svm_linear_model, y_pred = svm_linear(X_train, X_test, y_train, y_test)\n",
    "accuracy_svm_linear_model = accuracy_score(y_test, y_pred)\n",
    "print(accuracy_svm_linear_model)"
   ]
  },
  {
   "cell_type": "code",
   "execution_count": 29,
   "id": "cbd1e73d",
   "metadata": {
    "scrolled": true
   },
   "outputs": [
    {
     "name": "stdout",
     "output_type": "stream",
     "text": [
      "0.7888776541961577\n"
     ]
    }
   ],
   "source": [
    "svm_poly_model, y_pred = svm_poly(X_train, X_test, y_train, y_test)\n",
    "accuracy_svm_poly_model = accuracy_score(y_test, y_pred)\n",
    "print(accuracy_svm_poly_model)"
   ]
  },
  {
   "cell_type": "code",
   "execution_count": 30,
   "id": "7af172c1",
   "metadata": {},
   "outputs": [
    {
     "name": "stdout",
     "output_type": "stream",
     "text": [
      "0.7846309403437816\n"
     ]
    }
   ],
   "source": [
    "svm_rbf_model, y_pred = svm_rbf(X_train, X_test, y_train, y_test)\n",
    "accuracy_svm_rbf_model = accuracy_score(y_test, y_pred)\n",
    "print(accuracy_svm_rbf_model)"
   ]
  },
  {
   "cell_type": "markdown",
   "id": "af007ca2",
   "metadata": {},
   "source": [
    "K-Fold Cross Validation"
   ]
  },
  {
   "cell_type": "code",
   "execution_count": 55,
   "id": "95c52161",
   "metadata": {},
   "outputs": [],
   "source": [
    "def svm_kfold(X, y, n_splits=5):\n",
    "    svm_model = svm.SVC(kernel='linear', C=1, random_state=42)\n",
    "    svm_model.fit(X, y)\n",
    "    cv_scores = cross_val_score(svm_model, X, y, cv=5)\n",
    "    cv_scores_mean = cv_scores.mean()\n",
    "    return cv_scores, cv_scores_mean"
   ]
  },
  {
   "cell_type": "code",
   "execution_count": 57,
   "id": "3a02a1bf",
   "metadata": {
    "scrolled": true
   },
   "outputs": [
    {
     "name": "stdout",
     "output_type": "stream",
     "text": [
      "CV scores: [0.84307381 0.83555825 0.81270227 0.65169903 0.75889968]\n",
      "Mean CV score: 0.780386607046443\n"
     ]
    }
   ],
   "source": [
    "svml_linear_cv_scores, svm_linear_cv_scores_mean = svm_kfold(X, y)\n",
    "print(\"CV scores:\", svml_linear_cv_scores)\n",
    "print(\"Mean CV score:\", svm_linear_cv_scores_mean)"
   ]
  },
  {
   "cell_type": "markdown",
   "id": "1cfd2a7f",
   "metadata": {},
   "source": [
    "#### Accuracy comparison"
   ]
  },
  {
   "cell_type": "code",
   "execution_count": 58,
   "id": "6b254e81",
   "metadata": {},
   "outputs": [
    {
     "name": "stdout",
     "output_type": "stream",
     "text": [
      "                       Model  Accuracy\n",
      "0        Logistic Regression  0.833771\n",
      "1  Logistic Regression KFold  0.834270\n",
      "2              Decision Tree  0.761982\n",
      "3        Decision Tree KFold  0.680875\n",
      "4              Random Forest  0.842265\n",
      "5        Random Forest KFold  0.841997\n",
      "6        SVM (Linear Kernel)  0.837816\n",
      "7  SVM (Linear Kernel) KFold  0.780387\n",
      "8    SVM (Polynomial Kernel)  0.784631\n",
      "9           SVM (RBF Kernel)  0.788878\n"
     ]
    }
   ],
   "source": [
    "# create an accuracy dataframe\n",
    "accuracies = pd.DataFrame({\n",
    "    'Model': ['Logistic Regression', 'Logistic Regression KFold', 'Decision Tree', 'Decision Tree KFold', 'Random Forest', 'Random Forest KFold', 'SVM (Linear Kernel)', 'SVM (Linear Kernel) KFold', 'SVM (Polynomial Kernel)', 'SVM (RBF Kernel)'],\n",
    "    'Accuracy': [accuracy_log_reg, log_reg_mean_score, accuracy_dt, dt_mean_score, accuracy_rf, rf_cv_scores_mean, accuracy_svm_linear_model, svm_linear_cv_scores_mean, accuracy_svm_rbf_model, accuracy_svm_poly_model]\n",
    "})\n",
    "print(accuracies)\n",
    "# find the best accuracy\n",
    "accuracies_sorted = accuracies.sort_values(by='Accuracy', ascending=False)\n",
    "best_model = accuracies_sorted.iloc[0]['Model']\n",
    "best_accuracy = accuracies_sorted.iloc[0]['Accuracy']"
   ]
  },
  {
   "cell_type": "code",
   "execution_count": 59,
   "id": "1b651e54",
   "metadata": {
    "scrolled": true
   },
   "outputs": [
    {
     "name": "stdout",
     "output_type": "stream",
     "text": [
      "Best model:  Random Forest\n",
      "Accuracy:  0.8422649140546006\n"
     ]
    }
   ],
   "source": [
    "print(\"Best model: \", best_model)\n",
    "print(\"Accuracy: \", best_accuracy)"
   ]
  },
  {
   "cell_type": "markdown",
   "id": "cfc1b9db",
   "metadata": {},
   "source": [
    "#### Random Forest Improvement"
   ]
  },
  {
   "cell_type": "code",
   "execution_count": 65,
   "id": "8d04537c",
   "metadata": {},
   "outputs": [
    {
     "data": {
      "text/html": [
       "<style>#sk-container-id-1 {color: black;background-color: white;}#sk-container-id-1 pre{padding: 0;}#sk-container-id-1 div.sk-toggleable {background-color: white;}#sk-container-id-1 label.sk-toggleable__label {cursor: pointer;display: block;width: 100%;margin-bottom: 0;padding: 0.3em;box-sizing: border-box;text-align: center;}#sk-container-id-1 label.sk-toggleable__label-arrow:before {content: \"▸\";float: left;margin-right: 0.25em;color: #696969;}#sk-container-id-1 label.sk-toggleable__label-arrow:hover:before {color: black;}#sk-container-id-1 div.sk-estimator:hover label.sk-toggleable__label-arrow:before {color: black;}#sk-container-id-1 div.sk-toggleable__content {max-height: 0;max-width: 0;overflow: hidden;text-align: left;background-color: #f0f8ff;}#sk-container-id-1 div.sk-toggleable__content pre {margin: 0.2em;color: black;border-radius: 0.25em;background-color: #f0f8ff;}#sk-container-id-1 input.sk-toggleable__control:checked~div.sk-toggleable__content {max-height: 200px;max-width: 100%;overflow: auto;}#sk-container-id-1 input.sk-toggleable__control:checked~label.sk-toggleable__label-arrow:before {content: \"▾\";}#sk-container-id-1 div.sk-estimator input.sk-toggleable__control:checked~label.sk-toggleable__label {background-color: #d4ebff;}#sk-container-id-1 div.sk-label input.sk-toggleable__control:checked~label.sk-toggleable__label {background-color: #d4ebff;}#sk-container-id-1 input.sk-hidden--visually {border: 0;clip: rect(1px 1px 1px 1px);clip: rect(1px, 1px, 1px, 1px);height: 1px;margin: -1px;overflow: hidden;padding: 0;position: absolute;width: 1px;}#sk-container-id-1 div.sk-estimator {font-family: monospace;background-color: #f0f8ff;border: 1px dotted black;border-radius: 0.25em;box-sizing: border-box;margin-bottom: 0.5em;}#sk-container-id-1 div.sk-estimator:hover {background-color: #d4ebff;}#sk-container-id-1 div.sk-parallel-item::after {content: \"\";width: 100%;border-bottom: 1px solid gray;flex-grow: 1;}#sk-container-id-1 div.sk-label:hover label.sk-toggleable__label {background-color: #d4ebff;}#sk-container-id-1 div.sk-serial::before {content: \"\";position: absolute;border-left: 1px solid gray;box-sizing: border-box;top: 0;bottom: 0;left: 50%;z-index: 0;}#sk-container-id-1 div.sk-serial {display: flex;flex-direction: column;align-items: center;background-color: white;padding-right: 0.2em;padding-left: 0.2em;position: relative;}#sk-container-id-1 div.sk-item {position: relative;z-index: 1;}#sk-container-id-1 div.sk-parallel {display: flex;align-items: stretch;justify-content: center;background-color: white;position: relative;}#sk-container-id-1 div.sk-item::before, #sk-container-id-1 div.sk-parallel-item::before {content: \"\";position: absolute;border-left: 1px solid gray;box-sizing: border-box;top: 0;bottom: 0;left: 50%;z-index: -1;}#sk-container-id-1 div.sk-parallel-item {display: flex;flex-direction: column;z-index: 1;position: relative;background-color: white;}#sk-container-id-1 div.sk-parallel-item:first-child::after {align-self: flex-end;width: 50%;}#sk-container-id-1 div.sk-parallel-item:last-child::after {align-self: flex-start;width: 50%;}#sk-container-id-1 div.sk-parallel-item:only-child::after {width: 0;}#sk-container-id-1 div.sk-dashed-wrapped {border: 1px dashed gray;margin: 0 0.4em 0.5em 0.4em;box-sizing: border-box;padding-bottom: 0.4em;background-color: white;}#sk-container-id-1 div.sk-label label {font-family: monospace;font-weight: bold;display: inline-block;line-height: 1.2em;}#sk-container-id-1 div.sk-label-container {text-align: center;}#sk-container-id-1 div.sk-container {/* jupyter's `normalize.less` sets `[hidden] { display: none; }` but bootstrap.min.css set `[hidden] { display: none !important; }` so we also need the `!important` here to be able to override the default hidden behavior on the sphinx rendered scikit-learn.org. See: https://github.com/scikit-learn/scikit-learn/issues/21755 */display: inline-block !important;position: relative;}#sk-container-id-1 div.sk-text-repr-fallback {display: none;}</style><div id=\"sk-container-id-1\" class=\"sk-top-container\"><div class=\"sk-text-repr-fallback\"><pre>RandomForestClassifier(max_depth=20, max_features=8, min_samples_leaf=3,\n",
       "                       min_samples_split=10, n_estimators=449)</pre><b>In a Jupyter environment, please rerun this cell to show the HTML representation or trust the notebook. <br />On GitHub, the HTML representation is unable to render, please try loading this page with nbviewer.org.</b></div><div class=\"sk-container\" hidden><div class=\"sk-item\"><div class=\"sk-estimator sk-toggleable\"><input class=\"sk-toggleable__control sk-hidden--visually\" id=\"sk-estimator-id-1\" type=\"checkbox\" checked><label for=\"sk-estimator-id-1\" class=\"sk-toggleable__label sk-toggleable__label-arrow\">RandomForestClassifier</label><div class=\"sk-toggleable__content\"><pre>RandomForestClassifier(max_depth=20, max_features=8, min_samples_leaf=3,\n",
       "                       min_samples_split=10, n_estimators=449)</pre></div></div></div></div></div>"
      ],
      "text/plain": [
       "RandomForestClassifier(max_depth=20, max_features=8, min_samples_leaf=3,\n",
       "                       min_samples_split=10, n_estimators=449)"
      ]
     },
     "execution_count": 65,
     "metadata": {},
     "output_type": "execute_result"
    }
   ],
   "source": [
    "param_distributions = {\"n_estimators\": randint(100, 1000),\n",
    "                       \"min_samples_split\": randint(2, 20),\n",
    "                       \"min_samples_leaf\": randint(1, 10),\n",
    "                       \"max_features\": randint(1, 10)}\n",
    "\n",
    "rf = RandomForestClassifier(max_depth=20)\n",
    "\n",
    "random_search = RandomizedSearchCV(rf, param_distributions=param_distributions, n_iter=50, cv=5, n_jobs=-1)\n",
    "random_search.fit(X_train, y_train)\n",
    "\n",
    "best_params = random_search.best_params_\n",
    "\n",
    "rf_impr = RandomForestClassifier(n_estimators=best_params[\"n_estimators\"],\n",
    "                                  max_depth=20,\n",
    "                                  min_samples_split=best_params[\"min_samples_split\"],\n",
    "                                  min_samples_leaf=best_params[\"min_samples_leaf\"],\n",
    "                                  max_features=best_params[\"max_features\"])\n",
    "\n",
    "rf_impr.fit(X_train, y_train)"
   ]
  },
  {
   "cell_type": "code",
   "execution_count": null,
   "id": "eff91159",
   "metadata": {},
   "outputs": [],
   "source": [
    "accuracy_rf_impr = accuracy_score(y_test, y_pred_rf_impr)\n",
    "print(accuracy_rf_impr)"
   ]
  },
  {
   "cell_type": "code",
   "execution_count": 14,
   "id": "747560ac",
   "metadata": {},
   "outputs": [],
   "source": [
    "with open('log_reg.pkl', 'wb') as f:\n",
    "    pickle.dump(log_reg, f)"
   ]
  },
  {
   "cell_type": "markdown",
   "id": "bdf2ae8d",
   "metadata": {},
   "source": [
    "SelectKBest"
   ]
  },
  {
   "cell_type": "code",
   "execution_count": 5,
   "id": "098c3723",
   "metadata": {},
   "outputs": [],
   "source": [
    "k = 20\n",
    "selector = SelectKBest(score_func=f_classif, k=k)\n",
    "X_new = selector.fit_transform(X, y)"
   ]
  },
  {
   "cell_type": "code",
   "execution_count": 8,
   "id": "70f4f030",
   "metadata": {
    "scrolled": true
   },
   "outputs": [
    {
     "data": {
      "text/html": [
       "<style>#sk-container-id-3 {color: black;background-color: white;}#sk-container-id-3 pre{padding: 0;}#sk-container-id-3 div.sk-toggleable {background-color: white;}#sk-container-id-3 label.sk-toggleable__label {cursor: pointer;display: block;width: 100%;margin-bottom: 0;padding: 0.3em;box-sizing: border-box;text-align: center;}#sk-container-id-3 label.sk-toggleable__label-arrow:before {content: \"▸\";float: left;margin-right: 0.25em;color: #696969;}#sk-container-id-3 label.sk-toggleable__label-arrow:hover:before {color: black;}#sk-container-id-3 div.sk-estimator:hover label.sk-toggleable__label-arrow:before {color: black;}#sk-container-id-3 div.sk-toggleable__content {max-height: 0;max-width: 0;overflow: hidden;text-align: left;background-color: #f0f8ff;}#sk-container-id-3 div.sk-toggleable__content pre {margin: 0.2em;color: black;border-radius: 0.25em;background-color: #f0f8ff;}#sk-container-id-3 input.sk-toggleable__control:checked~div.sk-toggleable__content {max-height: 200px;max-width: 100%;overflow: auto;}#sk-container-id-3 input.sk-toggleable__control:checked~label.sk-toggleable__label-arrow:before {content: \"▾\";}#sk-container-id-3 div.sk-estimator input.sk-toggleable__control:checked~label.sk-toggleable__label {background-color: #d4ebff;}#sk-container-id-3 div.sk-label input.sk-toggleable__control:checked~label.sk-toggleable__label {background-color: #d4ebff;}#sk-container-id-3 input.sk-hidden--visually {border: 0;clip: rect(1px 1px 1px 1px);clip: rect(1px, 1px, 1px, 1px);height: 1px;margin: -1px;overflow: hidden;padding: 0;position: absolute;width: 1px;}#sk-container-id-3 div.sk-estimator {font-family: monospace;background-color: #f0f8ff;border: 1px dotted black;border-radius: 0.25em;box-sizing: border-box;margin-bottom: 0.5em;}#sk-container-id-3 div.sk-estimator:hover {background-color: #d4ebff;}#sk-container-id-3 div.sk-parallel-item::after {content: \"\";width: 100%;border-bottom: 1px solid gray;flex-grow: 1;}#sk-container-id-3 div.sk-label:hover label.sk-toggleable__label {background-color: #d4ebff;}#sk-container-id-3 div.sk-serial::before {content: \"\";position: absolute;border-left: 1px solid gray;box-sizing: border-box;top: 0;bottom: 0;left: 50%;z-index: 0;}#sk-container-id-3 div.sk-serial {display: flex;flex-direction: column;align-items: center;background-color: white;padding-right: 0.2em;padding-left: 0.2em;position: relative;}#sk-container-id-3 div.sk-item {position: relative;z-index: 1;}#sk-container-id-3 div.sk-parallel {display: flex;align-items: stretch;justify-content: center;background-color: white;position: relative;}#sk-container-id-3 div.sk-item::before, #sk-container-id-3 div.sk-parallel-item::before {content: \"\";position: absolute;border-left: 1px solid gray;box-sizing: border-box;top: 0;bottom: 0;left: 50%;z-index: -1;}#sk-container-id-3 div.sk-parallel-item {display: flex;flex-direction: column;z-index: 1;position: relative;background-color: white;}#sk-container-id-3 div.sk-parallel-item:first-child::after {align-self: flex-end;width: 50%;}#sk-container-id-3 div.sk-parallel-item:last-child::after {align-self: flex-start;width: 50%;}#sk-container-id-3 div.sk-parallel-item:only-child::after {width: 0;}#sk-container-id-3 div.sk-dashed-wrapped {border: 1px dashed gray;margin: 0 0.4em 0.5em 0.4em;box-sizing: border-box;padding-bottom: 0.4em;background-color: white;}#sk-container-id-3 div.sk-label label {font-family: monospace;font-weight: bold;display: inline-block;line-height: 1.2em;}#sk-container-id-3 div.sk-label-container {text-align: center;}#sk-container-id-3 div.sk-container {/* jupyter's `normalize.less` sets `[hidden] { display: none; }` but bootstrap.min.css set `[hidden] { display: none !important; }` so we also need the `!important` here to be able to override the default hidden behavior on the sphinx rendered scikit-learn.org. See: https://github.com/scikit-learn/scikit-learn/issues/21755 */display: inline-block !important;position: relative;}#sk-container-id-3 div.sk-text-repr-fallback {display: none;}</style><div id=\"sk-container-id-3\" class=\"sk-top-container\"><div class=\"sk-text-repr-fallback\"><pre>LogisticRegression(max_iter=1000)</pre><b>In a Jupyter environment, please rerun this cell to show the HTML representation or trust the notebook. <br />On GitHub, the HTML representation is unable to render, please try loading this page with nbviewer.org.</b></div><div class=\"sk-container\" hidden><div class=\"sk-item\"><div class=\"sk-estimator sk-toggleable\"><input class=\"sk-toggleable__control sk-hidden--visually\" id=\"sk-estimator-id-3\" type=\"checkbox\" checked><label for=\"sk-estimator-id-3\" class=\"sk-toggleable__label sk-toggleable__label-arrow\">LogisticRegression</label><div class=\"sk-toggleable__content\"><pre>LogisticRegression(max_iter=1000)</pre></div></div></div></div></div>"
      ],
      "text/plain": [
       "LogisticRegression(max_iter=1000)"
      ]
     },
     "execution_count": 8,
     "metadata": {},
     "output_type": "execute_result"
    }
   ],
   "source": [
    "model = LogisticRegression(max_iter=1000)\n",
    "model.fit(X_new, y)"
   ]
  },
  {
   "cell_type": "code",
   "execution_count": 15,
   "id": "bdc66c90",
   "metadata": {},
   "outputs": [],
   "source": [
    "X_test_new = selector.transform(X_test)"
   ]
  },
  {
   "cell_type": "code",
   "execution_count": 16,
   "id": "163eea2d",
   "metadata": {
    "scrolled": true
   },
   "outputs": [],
   "source": [
    "y_pred = model.predict(X_test_new)\n",
    "y_prob = model.predict_proba(X_test_new)"
   ]
  },
  {
   "cell_type": "code",
   "execution_count": 17,
   "id": "89f51ec6",
   "metadata": {},
   "outputs": [
    {
     "name": "stdout",
     "output_type": "stream",
     "text": [
      "[[3688  192]\n",
      " [ 622  443]]\n"
     ]
    }
   ],
   "source": [
    "cf_matrix = confusion_matrix(y_test, y_pred)\n",
    "print(cf_matrix)"
   ]
  },
  {
   "cell_type": "code",
   "execution_count": 20,
   "id": "82f3a7ef",
   "metadata": {},
   "outputs": [
    {
     "name": "stdout",
     "output_type": "stream",
     "text": [
      "Accuracy: 0.8353892821031345\n",
      "Precision: 0.6976377952755906\n",
      "Recall: 0.415962441314554\n",
      "F1-score: 0.5211764705882352\n"
     ]
    }
   ],
   "source": [
    "# Calcola l'accuratezza del modello\n",
    "accuracy = accuracy_score(y_test, y_pred)\n",
    "print('Accuracy:', accuracy)\n",
    "\n",
    "# Calcola la precisione del modello\n",
    "precision = precision_score(y_test, y_pred)\n",
    "print('Precision:', precision)\n",
    "\n",
    "# Calcola il recall del modello\n",
    "recall = recall_score(y_test, y_pred)\n",
    "print('Recall:', recall)\n",
    "\n",
    "# Calcola l'F1-score del modello\n",
    "f1 = f1_score(y_test, y_pred)\n",
    "print('F1-score:', f1)"
   ]
  },
  {
   "cell_type": "code",
   "execution_count": 25,
   "id": "634eab33",
   "metadata": {},
   "outputs": [
    {
     "name": "stdout",
     "output_type": "stream",
     "text": [
      "Index(['MinTemp', 'MaxTemp', 'Rainfall', 'WindSpeed9am', 'WindSpeed3pm',\n",
      "       'Humidity9am', 'Humidity3pm', 'Temp3pm', 'Pressure9am', 'Pressure3pm',\n",
      "       'WindGustDir_S', 'WindGustDir_SW', 'WindGustDir_WSW', 'WindDir9am_SSE',\n",
      "       'WindDir9am_SW', 'WindDir3pm_N', 'WindDir3pm_SSW', 'WindDir3pm_W',\n",
      "       'WindDir3pm_WSW', 'RainToday'],\n",
      "      dtype='object')\n"
     ]
    }
   ],
   "source": [
    "# Ottieni un array booleano che indica quali colonne sono state selezionate\n",
    "selected_cols = selector.get_support()\n",
    "\n",
    "# Elenca i nomi delle colonne selezionate\n",
    "selected_features = X.columns[selected_cols]\n",
    "\n",
    "# Stampa i nomi delle colonne selezionate\n",
    "print(selected_features)"
   ]
  },
  {
   "cell_type": "code",
   "execution_count": 32,
   "id": "81a19aa1",
   "metadata": {},
   "outputs": [],
   "source": [
    "scaler = MinMaxScaler()\n",
    "X_train_scaled = scaler.fit_transform(X_train)\n",
    "X_test_scaled = scaler.transform(X_test)\n",
    "\n",
    "new_selector = SelectKBest(chi2, k=14)\n",
    "X_train_new2 = new_selector.fit_transform(X_train_scaled, y_train)\n",
    "X_test_new2 = new_selector.transform(X_test_scaled)"
   ]
  },
  {
   "cell_type": "code",
   "execution_count": 33,
   "id": "62cb5aa6",
   "metadata": {},
   "outputs": [
    {
     "name": "stdout",
     "output_type": "stream",
     "text": [
      "Accuracy: 0.8341759352881699\n",
      "Precision: 0.703150912106136\n",
      "Recall: 0.39812206572769954\n",
      "F1-score: 0.5083932853717027\n"
     ]
    }
   ],
   "source": [
    "clf = LogisticRegression()\n",
    "clf.fit(X_train_new2, y_train)\n",
    "y_pred = clf.predict(X_test_new2)\n",
    "accuracy = clf.score(X_test_new2, y_test)\n",
    "precision = precision_score(y_test, y_pred)\n",
    "recall = recall_score(y_test, y_pred)\n",
    "f1 = f1_score(y_test, y_pred)\n",
    "print(\"Accuracy:\", accuracy)\n",
    "print(\"Precision:\", precision)\n",
    "print(\"Recall:\", recall)\n",
    "print(\"F1-score:\", f1)"
   ]
  },
  {
   "cell_type": "code",
   "execution_count": 36,
   "id": "315dc4de",
   "metadata": {},
   "outputs": [
    {
     "name": "stdout",
     "output_type": "stream",
     "text": [
      "Index(['MinTemp', 'MaxTemp', 'Rainfall', 'Humidity9am', 'Humidity3pm',\n",
      "       'Temp3pm', 'WindGustDir_S', 'WindGustDir_SW', 'WindGustDir_WSW',\n",
      "       'WindDir3pm_N', 'WindDir3pm_S', 'WindDir3pm_W', 'WindDir3pm_WSW',\n",
      "       'RainToday'],\n",
      "      dtype='object')\n"
     ]
    }
   ],
   "source": [
    "# Ottieni un array booleano che indica quali colonne sono state selezionate\n",
    "selected_cols = new_selector.get_support()\n",
    "\n",
    "# Elenca i nomi delle colonne selezionate\n",
    "new_selected_features = X.columns[selected_cols]\n",
    "\n",
    "# Stampa i nomi delle colonne selezionate\n",
    "print(new_selected_features)"
   ]
  },
  {
   "cell_type": "code",
   "execution_count": 37,
   "id": "9315349c",
   "metadata": {},
   "outputs": [
    {
     "name": "stdout",
     "output_type": "stream",
     "text": [
      "Index(['MinTemp', 'MaxTemp', 'Rainfall', 'WindSpeed9am', 'WindSpeed3pm',\n",
      "       'Humidity9am', 'Humidity3pm', 'Temp9am', 'Temp3pm', 'Pressure9am',\n",
      "       'Pressure3pm', 'WindGustDir_ENE', 'WindGustDir_ESE', 'WindGustDir_N',\n",
      "       'WindGustDir_NE', 'WindGustDir_NNE', 'WindGustDir_NNW',\n",
      "       'WindGustDir_NW', 'WindGustDir_S', 'WindGustDir_SE', 'WindGustDir_SSE',\n",
      "       'WindGustDir_SSW', 'WindGustDir_SW', 'WindGustDir_W', 'WindGustDir_WNW',\n",
      "       'WindGustDir_WSW', 'WindDir9am_ENE', 'WindDir9am_ESE', 'WindDir9am_N',\n",
      "       'WindDir9am_NE', 'WindDir9am_NNE', 'WindDir9am_NNW', 'WindDir9am_NW',\n",
      "       'WindDir9am_S', 'WindDir9am_SE', 'WindDir9am_SSE', 'WindDir9am_SSW',\n",
      "       'WindDir9am_SW', 'WindDir9am_W', 'WindDir9am_WNW', 'WindDir9am_WSW',\n",
      "       'WindDir3pm_ENE', 'WindDir3pm_ESE', 'WindDir3pm_N', 'WindDir3pm_NE',\n",
      "       'WindDir3pm_NNE', 'WindDir3pm_NNW', 'WindDir3pm_NW', 'WindDir3pm_S',\n",
      "       'WindDir3pm_SE', 'WindDir3pm_SSE', 'WindDir3pm_SSW', 'WindDir3pm_SW',\n",
      "       'WindDir3pm_W', 'WindDir3pm_WNW', 'WindDir3pm_WSW', 'RainToday'],\n",
      "      dtype='object')\n"
     ]
    }
   ],
   "source": [
    "print(X.columns)"
   ]
  },
  {
   "cell_type": "markdown",
   "id": "8126ab99",
   "metadata": {},
   "source": [
    "### Additional columns work"
   ]
  },
  {
   "cell_type": "code",
   "execution_count": 49,
   "id": "4b2af974",
   "metadata": {},
   "outputs": [],
   "source": [
    "XXX = X.loc[:, ['MinTemp', 'MaxTemp', 'Rainfall', 'WindSpeed9am', 'WindSpeed3pm', 'Humidity9am', 'Humidity3pm']]"
   ]
  },
  {
   "cell_type": "code",
   "execution_count": 43,
   "id": "01605858",
   "metadata": {},
   "outputs": [
    {
     "name": "stdout",
     "output_type": "stream",
     "text": [
      "Index(['MinTemp', 'MaxTemp', 'Rainfall', 'WindSpeed9am', 'WindSpeed3pm',\n",
      "       'Humidity9am', 'Humidity3pm'],\n",
      "      dtype='object')\n"
     ]
    }
   ],
   "source": [
    "print(XXX.columns)"
   ]
  },
  {
   "cell_type": "code",
   "execution_count": 50,
   "id": "e7b01f87",
   "metadata": {},
   "outputs": [
    {
     "name": "stdout",
     "output_type": "stream",
     "text": [
      "Index(['MinTemp', 'MaxTemp', 'Rainfall', 'Humidity', 'WindSpeed'], dtype='object')\n"
     ]
    }
   ],
   "source": [
    "XXX[\"Humidity\"] = pd.concat([XXX[\"Humidity9am\"], XXX[\"Humidity3pm\"]], axis=1).mean(axis=1)\n",
    "XXX = XXX.drop(['Humidity9am', 'Humidity3pm'], axis=1)\n",
    "XXX[\"WindSpeed\"] = pd.concat([XXX[\"WindSpeed9am\"], XXX[\"WindSpeed3pm\"]], axis=1).mean(axis=1)\n",
    "XXX = XXX.drop(['WindSpeed9am', 'WindSpeed3pm'], axis=1)\n",
    "print(XXX.columns)"
   ]
  },
  {
   "cell_type": "code",
   "execution_count": 51,
   "id": "9923851c",
   "metadata": {},
   "outputs": [],
   "source": [
    "XXX_train, XXX_test, yyy_train, yyy_test = split_df(XXX, y)"
   ]
  },
  {
   "cell_type": "code",
   "execution_count": 52,
   "id": "fa73b129",
   "metadata": {},
   "outputs": [],
   "source": [
    "model = LogisticRegression(max_iter=1000)\n",
    "model.fit(XXX_train, yyy_train)\n",
    "y_pred = model.predict(XXX_test)"
   ]
  },
  {
   "cell_type": "code",
   "execution_count": 53,
   "id": "56f2bd23",
   "metadata": {
    "scrolled": false
   },
   "outputs": [
    {
     "name": "stdout",
     "output_type": "stream",
     "text": [
      "Accuracy: 0.822649140546006\n",
      "Precision: 0.6620689655172414\n",
      "Recall: 0.36056338028169016\n",
      "F1-score: 0.46686930091185413\n"
     ]
    }
   ],
   "source": [
    "# Calcola l'accuratezza del modello\n",
    "accuracy = accuracy_score(yyy_test, y_pred)\n",
    "print('Accuracy:', accuracy)\n",
    "\n",
    "# Calcola la precisione del modello\n",
    "precision = precision_score(yyy_test, y_pred)\n",
    "print('Precision:', precision)\n",
    "\n",
    "# Calcola il recall del modello\n",
    "recall = recall_score(yyy_test, y_pred)\n",
    "print('Recall:', recall)\n",
    "\n",
    "# Calcola l'F1-score del modello\n",
    "f1 = f1_score(yyy_test, y_pred)\n",
    "print('F1-score:', f1)"
   ]
  },
  {
   "cell_type": "code",
   "execution_count": 55,
   "id": "b071bc33",
   "metadata": {},
   "outputs": [],
   "source": [
    "model_rf, y_pred_rf = random_forest(XXX_train, XXX_test, yyy_train, yyy_test)"
   ]
  },
  {
   "cell_type": "code",
   "execution_count": 56,
   "id": "ca949fa5",
   "metadata": {},
   "outputs": [
    {
     "name": "stdout",
     "output_type": "stream",
     "text": [
      "Accuracy: 0.8216380182002022\n",
      "Precision: 0.6450079239302694\n",
      "Recall: 0.38215962441314555\n",
      "F1-score: 0.4799528301886792\n"
     ]
    }
   ],
   "source": [
    "# Calcola l'accuratezza del modello\n",
    "accuracy = accuracy_score(yyy_test, y_pred_rf)\n",
    "print('Accuracy:', accuracy)\n",
    "\n",
    "# Calcola la precisione del modello\n",
    "precision = precision_score(yyy_test, y_pred_rf)\n",
    "print('Precision:', precision)\n",
    "\n",
    "# Calcola il recall del modello\n",
    "recall = recall_score(yyy_test, y_pred_rf)\n",
    "print('Recall:', recall)\n",
    "\n",
    "# Calcola l'F1-score del modello\n",
    "f1 = f1_score(yyy_test, y_pred_rf)\n",
    "print('F1-score:', f1)"
   ]
  }
 ],
 "metadata": {
  "kernelspec": {
   "display_name": "Python 3 (ipykernel)",
   "language": "python",
   "name": "python3"
  },
  "language_info": {
   "codemirror_mode": {
    "name": "ipython",
    "version": 3
   },
   "file_extension": ".py",
   "mimetype": "text/x-python",
   "name": "python",
   "nbconvert_exporter": "python",
   "pygments_lexer": "ipython3",
   "version": "3.11.3"
  }
 },
 "nbformat": 4,
 "nbformat_minor": 5
}
